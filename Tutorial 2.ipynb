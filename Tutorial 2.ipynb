{
 "cells": [
  {
   "cell_type": "markdown",
   "id": "e3e925b8",
   "metadata": {},
   "source": [
    "### 2.1 Python Lists\n",
    "\n",
    "- A data structure used to store multiple data points in one location. Example: List of marks of all the students in your class."
   ]
  },
  {
   "cell_type": "code",
   "execution_count": 1,
   "id": "b6eebf85",
   "metadata": {},
   "outputs": [
    {
     "data": {
      "text/plain": [
       "[84, 93, 44, 78, 22]"
      ]
     },
     "execution_count": 1,
     "metadata": {},
     "output_type": "execute_result"
    }
   ],
   "source": [
    "# How to create a list? -----> Square brackets\n",
    "\n",
    "[84, 93, 44, 78, 22]"
   ]
  },
  {
   "cell_type": "code",
   "execution_count": 2,
   "id": "ac4773f6",
   "metadata": {},
   "outputs": [
    {
     "data": {
      "text/plain": [
       "[84, 93, 44, 78, 22]"
      ]
     },
     "execution_count": 2,
     "metadata": {},
     "output_type": "execute_result"
    }
   ],
   "source": [
    "# Store the list as a variable\n",
    "\n",
    "marks = [84, 93, 44, 78, 22]\n",
    "marks"
   ]
  },
  {
   "cell_type": "markdown",
   "id": "bd609609",
   "metadata": {},
   "source": [
    "- Values inside the list can have any data type: integer, float, boolean, string etc."
   ]
  },
  {
   "cell_type": "code",
   "execution_count": 3,
   "id": "25394cfe",
   "metadata": {},
   "outputs": [
    {
     "data": {
      "text/plain": [
       "[2.2, 3.5, 6.7]"
      ]
     },
     "execution_count": 3,
     "metadata": {},
     "output_type": "execute_result"
    }
   ],
   "source": [
    "a = [2.2,3.5,6.7]\n",
    "a"
   ]
  },
  {
   "cell_type": "code",
   "execution_count": 4,
   "id": "496c35d9",
   "metadata": {},
   "outputs": [
    {
     "data": {
      "text/plain": [
       "['everyday', 'data', 'science']"
      ]
     },
     "execution_count": 4,
     "metadata": {},
     "output_type": "execute_result"
    }
   ],
   "source": [
    "b = ['everyday','data','science']\n",
    "b"
   ]
  },
  {
   "cell_type": "markdown",
   "id": "fb3d6e83",
   "metadata": {},
   "source": [
    "- values inside the list can have any combination of these data types as well."
   ]
  },
  {
   "cell_type": "code",
   "execution_count": 5,
   "id": "f51ae128",
   "metadata": {},
   "outputs": [
    {
     "data": {
      "text/plain": [
       "['Everyday Data Science', 2200, 2.63]"
      ]
     },
     "execution_count": 5,
     "metadata": {},
     "output_type": "execute_result"
    }
   ],
   "source": [
    "c = ['Everyday Data Science', 2200, 2.63]\n",
    "c"
   ]
  },
  {
   "cell_type": "markdown",
   "id": "24da42af",
   "metadata": {},
   "source": [
    "- A list can also have a list inside itself. It's called Nested lists."
   ]
  },
  {
   "cell_type": "code",
   "execution_count": 6,
   "id": "97ce1bad",
   "metadata": {},
   "outputs": [
    {
     "data": {
      "text/plain": [
       "['Sachin', [100, 25]]"
      ]
     },
     "execution_count": 6,
     "metadata": {},
     "output_type": "execute_result"
    }
   ],
   "source": [
    "d = ['Sachin',[100,25]]\n",
    "d"
   ]
  },
  {
   "cell_type": "markdown",
   "id": "c51af449",
   "metadata": {},
   "source": [
    "- List of Lists"
   ]
  },
  {
   "cell_type": "code",
   "execution_count": 7,
   "id": "cfb84d55",
   "metadata": {},
   "outputs": [
    {
     "data": {
      "text/plain": [
       "[['Sachin', 150], ['Kohli', 112], ['Dhoni', 76]]"
      ]
     },
     "execution_count": 7,
     "metadata": {},
     "output_type": "execute_result"
    }
   ],
   "source": [
    "scores = [['Sachin',150],\n",
    "         ['Kohli', 112],\n",
    "         ['Dhoni',76]]\n",
    "\n",
    "scores"
   ]
  },
  {
   "cell_type": "code",
   "execution_count": 8,
   "id": "1ba92eea",
   "metadata": {},
   "outputs": [
    {
     "data": {
      "text/plain": [
       "list"
      ]
     },
     "execution_count": 8,
     "metadata": {},
     "output_type": "execute_result"
    }
   ],
   "source": [
    "type(scores)"
   ]
  },
  {
   "cell_type": "markdown",
   "id": "0e6bdfb3",
   "metadata": {},
   "source": [
    "### 2.2 Accessing data from Lists"
   ]
  },
  {
   "cell_type": "markdown",
   "id": "db69ac43",
   "metadata": {},
   "source": [
    "> If you are given a list or you just created a list, how do you access data from a list?"
   ]
  },
  {
   "cell_type": "code",
   "execution_count": null,
   "id": "fb15cb2e",
   "metadata": {},
   "outputs": [],
   "source": [
    "# index of lists ----> starts with 0, called zero-indexing\n",
    "\n",
    "marks = [84, 93, 44, 78, 22]"
   ]
  },
  {
   "cell_type": "markdown",
   "id": "f686df01",
   "metadata": {},
   "source": [
    "In a list called \"marks\":\n",
    "\n",
    "- at position 0, value stored = 84\n",
    "- at position 1, value stored = 93\n",
    "- at position 2, value stored = 44\n",
    "- at position 3, value stored = 78\n",
    "- at position 4, value stored = 22"
   ]
  },
  {
   "cell_type": "markdown",
   "id": "dabb7a8f",
   "metadata": {},
   "source": [
    "> To get value from nth position of list = list_name[n-1]"
   ]
  },
  {
   "cell_type": "code",
   "execution_count": 9,
   "id": "b823d252",
   "metadata": {},
   "outputs": [
    {
     "data": {
      "text/plain": [
       "44"
      ]
     },
     "execution_count": 9,
     "metadata": {},
     "output_type": "execute_result"
    }
   ],
   "source": [
    "# Third element from list marks\n",
    "\n",
    "marks[2]"
   ]
  },
  {
   "cell_type": "code",
   "execution_count": 10,
   "id": "baa0ba15",
   "metadata": {},
   "outputs": [
    {
     "data": {
      "text/plain": [
       "22"
      ]
     },
     "execution_count": 10,
     "metadata": {},
     "output_type": "execute_result"
    }
   ],
   "source": [
    "# Count backwards ; very useful when you don't know the length of the list but want last\n",
    "# element\n",
    "\n",
    "marks[-1]"
   ]
  },
  {
   "cell_type": "code",
   "execution_count": 11,
   "id": "38c01c14",
   "metadata": {},
   "outputs": [
    {
     "data": {
      "text/plain": [
       "True"
      ]
     },
     "execution_count": 11,
     "metadata": {},
     "output_type": "execute_result"
    }
   ],
   "source": [
    "# Count from front or backwards, it gives you same result\n",
    "\n",
    "marks[4] == marks[-1]"
   ]
  },
  {
   "cell_type": "code",
   "execution_count": 12,
   "id": "eaa6cc64",
   "metadata": {},
   "outputs": [
    {
     "name": "stdout",
     "output_type": "stream",
     "text": [
      "84\n",
      "22\n"
     ]
    }
   ],
   "source": [
    "first_value = marks[0]\n",
    "last_value = marks[-1]\n",
    "\n",
    "print(first_value)\n",
    "print(last_value)"
   ]
  },
  {
   "cell_type": "code",
   "execution_count": 13,
   "id": "caebe992",
   "metadata": {},
   "outputs": [
    {
     "data": {
      "text/plain": [
       "177"
      ]
     },
     "execution_count": 13,
     "metadata": {},
     "output_type": "execute_result"
    }
   ],
   "source": [
    "#. can also do all the arithmetic\n",
    "\n",
    "marks[0] + marks[1]"
   ]
  },
  {
   "cell_type": "code",
   "execution_count": 14,
   "id": "37500bb0",
   "metadata": {},
   "outputs": [],
   "source": [
    "# accessing list of lists\n",
    "\n",
    "scores = [['Sachin',150],\n",
    "         ['Kohli', 112],\n",
    "         ['Dhoni',76]]"
   ]
  },
  {
   "cell_type": "code",
   "execution_count": 15,
   "id": "a4058298",
   "metadata": {},
   "outputs": [
    {
     "data": {
      "text/plain": [
       "['Sachin', 150]"
      ]
     },
     "execution_count": 15,
     "metadata": {},
     "output_type": "execute_result"
    }
   ],
   "source": [
    "scores[0]"
   ]
  },
  {
   "cell_type": "code",
   "execution_count": 16,
   "id": "5a2c83ed",
   "metadata": {},
   "outputs": [
    {
     "data": {
      "text/plain": [
       "'Sachin'"
      ]
     },
     "execution_count": 16,
     "metadata": {},
     "output_type": "execute_result"
    }
   ],
   "source": [
    "scores[0][0]"
   ]
  },
  {
   "cell_type": "code",
   "execution_count": 17,
   "id": "13679ec5",
   "metadata": {},
   "outputs": [
    {
     "data": {
      "text/plain": [
       "76"
      ]
     },
     "execution_count": 17,
     "metadata": {},
     "output_type": "execute_result"
    }
   ],
   "source": [
    "scores[2][1]"
   ]
  },
  {
   "cell_type": "markdown",
   "id": "f6d80298",
   "metadata": {},
   "source": [
    "### 2.3 Slicing Lists\n",
    "\n",
    "> Used to select a smaller subset of a large set.\n",
    "- use ':' to give the range of index you want values from."
   ]
  },
  {
   "cell_type": "code",
   "execution_count": 18,
   "id": "1ba487c9",
   "metadata": {},
   "outputs": [],
   "source": [
    "marks = [84, 93, 44, 78, 22]"
   ]
  },
  {
   "cell_type": "code",
   "execution_count": 19,
   "id": "82b9e2c2",
   "metadata": {},
   "outputs": [
    {
     "data": {
      "text/plain": [
       "[93, 44]"
      ]
     },
     "execution_count": 19,
     "metadata": {},
     "output_type": "execute_result"
    }
   ],
   "source": [
    "# 2nd to 4th element\n",
    "\n",
    "marks[1:3]"
   ]
  },
  {
   "cell_type": "code",
   "execution_count": 20,
   "id": "a44abbae",
   "metadata": {},
   "outputs": [
    {
     "data": {
      "text/plain": [
       "[93, 44, 78]"
      ]
     },
     "execution_count": 20,
     "metadata": {},
     "output_type": "execute_result"
    }
   ],
   "source": [
    "marks[1:4] #get the values from list marks from index 1 to 4 but excluding 4."
   ]
  },
  {
   "cell_type": "code",
   "execution_count": null,
   "id": "2db255ad",
   "metadata": {},
   "outputs": [],
   "source": [
    "# [ start     :    end ]\n",
    "# included      excluded\n",
    "\n",
    "# The start index will be included, while the end index is not."
   ]
  },
  {
   "cell_type": "code",
   "execution_count": 21,
   "id": "d5b9b422",
   "metadata": {},
   "outputs": [
    {
     "data": {
      "text/plain": [
       "[84, 93, 44]"
      ]
     },
     "execution_count": 21,
     "metadata": {},
     "output_type": "execute_result"
    }
   ],
   "source": [
    "# getting lazy\n",
    "\n",
    "marks[:3] #start from the beginning, go to index 3 but exclude value at index 3"
   ]
  },
  {
   "cell_type": "code",
   "execution_count": 22,
   "id": "44dda85e",
   "metadata": {},
   "outputs": [
    {
     "data": {
      "text/plain": [
       "[44, 78, 22]"
      ]
     },
     "execution_count": 22,
     "metadata": {},
     "output_type": "execute_result"
    }
   ],
   "source": [
    "marks[2:] #start from index 2 and go till the end"
   ]
  },
  {
   "cell_type": "markdown",
   "id": "975f2b7b",
   "metadata": {},
   "source": [
    "- If you don't specify the start index, Python figures out that you want to start your slice at the beginning of your list. If you don't specify the end index, the slice will go all the way to the last element of your list. "
   ]
  },
  {
   "cell_type": "code",
   "execution_count": 23,
   "id": "5a19a120",
   "metadata": {},
   "outputs": [],
   "source": [
    "# slicing list of lists\n",
    "\n",
    "scores = [['Sachin',150, 120],\n",
    "         ['Kohli', 112, 23],\n",
    "         ['Dhoni',76, 34]]"
   ]
  },
  {
   "cell_type": "code",
   "execution_count": 24,
   "id": "dac3e5fe",
   "metadata": {},
   "outputs": [
    {
     "data": {
      "text/plain": [
       "['Kohli', 112, 23]"
      ]
     },
     "execution_count": 24,
     "metadata": {},
     "output_type": "execute_result"
    }
   ],
   "source": [
    "scores[1]"
   ]
  },
  {
   "cell_type": "code",
   "execution_count": 25,
   "id": "437a4bd1",
   "metadata": {},
   "outputs": [
    {
     "data": {
      "text/plain": [
       "[112, 23]"
      ]
     },
     "execution_count": 25,
     "metadata": {},
     "output_type": "execute_result"
    }
   ],
   "source": [
    "scores[1][1:]"
   ]
  },
  {
   "cell_type": "markdown",
   "id": "cc8ce332",
   "metadata": {},
   "source": [
    "### 2.4 Manipulating Lists: Replace, Extend, Delete values from list"
   ]
  },
  {
   "cell_type": "code",
   "execution_count": 26,
   "id": "003b6641",
   "metadata": {},
   "outputs": [],
   "source": [
    "# Replace values in a list\n",
    "\n",
    "marks = [84, 93, 44, 78, 22]"
   ]
  },
  {
   "cell_type": "code",
   "execution_count": 27,
   "id": "1d4e3c5f",
   "metadata": {},
   "outputs": [
    {
     "data": {
      "text/plain": [
       "[84, 93, 44, 78, 32]"
      ]
     },
     "execution_count": 27,
     "metadata": {},
     "output_type": "execute_result"
    }
   ],
   "source": [
    "marks[-1] = 32\n",
    "marks"
   ]
  },
  {
   "cell_type": "code",
   "execution_count": 28,
   "id": "e89de564",
   "metadata": {},
   "outputs": [
    {
     "data": {
      "text/plain": [
       "[93, 84, 44, 78, 32]"
      ]
     },
     "execution_count": 28,
     "metadata": {},
     "output_type": "execute_result"
    }
   ],
   "source": [
    "# Replace multiple values in a list at a time\n",
    "\n",
    "marks[0:2] = [93, 84]\n",
    "marks"
   ]
  },
  {
   "cell_type": "code",
   "execution_count": 29,
   "id": "a754c3f6",
   "metadata": {},
   "outputs": [
    {
     "ename": "TypeError",
     "evalue": "can only concatenate list (not \"int\") to list",
     "output_type": "error",
     "traceback": [
      "\u001b[0;31m---------------------------------------------------------------------------\u001b[0m",
      "\u001b[0;31mTypeError\u001b[0m                                 Traceback (most recent call last)",
      "\u001b[0;32m/var/folders/3b/tzn1v6ls71388q_f0vnpvnj00000gn/T/ipykernel_41871/3438239909.py\u001b[0m in \u001b[0;36m<module>\u001b[0;34m\u001b[0m\n\u001b[1;32m      1\u001b[0m \u001b[0;31m# Extending lists\u001b[0m\u001b[0;34m\u001b[0m\u001b[0;34m\u001b[0m\u001b[0m\n\u001b[1;32m      2\u001b[0m \u001b[0;34m\u001b[0m\u001b[0m\n\u001b[0;32m----> 3\u001b[0;31m \u001b[0mmarks\u001b[0m \u001b[0;34m+\u001b[0m \u001b[0;36m10\u001b[0m\u001b[0;34m\u001b[0m\u001b[0;34m\u001b[0m\u001b[0m\n\u001b[0m",
      "\u001b[0;31mTypeError\u001b[0m: can only concatenate list (not \"int\") to list"
     ]
    }
   ],
   "source": [
    "# Extending lists\n",
    "\n",
    "marks + 10"
   ]
  },
  {
   "cell_type": "code",
   "execution_count": 30,
   "id": "70d296bb",
   "metadata": {},
   "outputs": [
    {
     "data": {
      "text/plain": [
       "[93, 84, 44, 78, 32, 10]"
      ]
     },
     "execution_count": 30,
     "metadata": {},
     "output_type": "execute_result"
    }
   ],
   "source": [
    "marks + [10]"
   ]
  },
  {
   "cell_type": "code",
   "execution_count": 31,
   "id": "c7904686",
   "metadata": {},
   "outputs": [
    {
     "data": {
      "text/plain": [
       "[93, 84, 44, 78]"
      ]
     },
     "execution_count": 31,
     "metadata": {},
     "output_type": "execute_result"
    }
   ],
   "source": [
    "# Deleting an element from the list\n",
    "\n",
    "del(marks[-1])\n",
    "marks"
   ]
  },
  {
   "cell_type": "markdown",
   "id": "6693df6f",
   "metadata": {},
   "source": [
    "### 2.5 Bonus: How to CORRECTLY copy a list?"
   ]
  },
  {
   "cell_type": "code",
   "execution_count": 32,
   "id": "d205fb19",
   "metadata": {},
   "outputs": [
    {
     "data": {
      "text/plain": [
       "[10, 20, 30]"
      ]
     },
     "execution_count": 32,
     "metadata": {},
     "output_type": "execute_result"
    }
   ],
   "source": [
    "a = [10,20,30]\n",
    "a"
   ]
  },
  {
   "cell_type": "code",
   "execution_count": 34,
   "id": "c5ceecfb",
   "metadata": {},
   "outputs": [
    {
     "data": {
      "text/plain": [
       "[10, 20, 30]"
      ]
     },
     "execution_count": 34,
     "metadata": {},
     "output_type": "execute_result"
    }
   ],
   "source": [
    "b = a\n",
    "b"
   ]
  },
  {
   "cell_type": "code",
   "execution_count": 35,
   "id": "432777cd",
   "metadata": {},
   "outputs": [
    {
     "data": {
      "text/plain": [
       "[10, 20, 32]"
      ]
     },
     "execution_count": 35,
     "metadata": {},
     "output_type": "execute_result"
    }
   ],
   "source": [
    "b[2]=32\n",
    "b"
   ]
  },
  {
   "cell_type": "code",
   "execution_count": 36,
   "id": "4a82c213",
   "metadata": {},
   "outputs": [
    {
     "data": {
      "text/plain": [
       "[10, 20, 32]"
      ]
     },
     "execution_count": 36,
     "metadata": {},
     "output_type": "execute_result"
    }
   ],
   "source": [
    "a"
   ]
  },
  {
   "cell_type": "markdown",
   "id": "6a977867",
   "metadata": {},
   "source": [
    "- WHY? This is because when we write a = [10,20,30], a stores the address of your computer memory which has values [10,20,30]. So, when you write b = a, now b also stores the same address of your computer memory. If you change b, you are changing the values in the address, so since a also references to same address, we see that list a also changed."
   ]
  },
  {
   "cell_type": "code",
   "execution_count": 37,
   "id": "2d51366e",
   "metadata": {},
   "outputs": [
    {
     "name": "stdout",
     "output_type": "stream",
     "text": [
      "a:  [10, 20, 30]\n",
      "b:  [10, 20, 32]\n"
     ]
    }
   ],
   "source": [
    "# How to properly copy/duplicate a list then?\n",
    "\n",
    "a = [10,20,30]\n",
    "\n",
    "b = list(a) #Method 1\n",
    "b[2] = 32\n",
    "print(\"a: \",a)\n",
    "print(\"b: \",b)"
   ]
  },
  {
   "cell_type": "code",
   "execution_count": 38,
   "id": "bba1bafe",
   "metadata": {},
   "outputs": [
    {
     "name": "stdout",
     "output_type": "stream",
     "text": [
      "a:  [10, 20, 30]\n",
      "b:  [10, 20, 32]\n"
     ]
    }
   ],
   "source": [
    "a = [10,20,30]\n",
    "\n",
    "b = a[:] #Method 2\n",
    "b[2] = 32\n",
    "print(\"a: \",a)\n",
    "print(\"b: \",b)"
   ]
  },
  {
   "cell_type": "code",
   "execution_count": null,
   "id": "eaf192b1",
   "metadata": {},
   "outputs": [],
   "source": []
  }
 ],
 "metadata": {
  "kernelspec": {
   "display_name": "Python 3 (ipykernel)",
   "language": "python",
   "name": "python3"
  },
  "language_info": {
   "codemirror_mode": {
    "name": "ipython",
    "version": 3
   },
   "file_extension": ".py",
   "mimetype": "text/x-python",
   "name": "python",
   "nbconvert_exporter": "python",
   "pygments_lexer": "ipython3",
   "version": "3.9.7"
  }
 },
 "nbformat": 4,
 "nbformat_minor": 5
}
