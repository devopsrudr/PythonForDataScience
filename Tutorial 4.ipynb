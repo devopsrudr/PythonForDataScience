{
 "cells": [
  {
   "cell_type": "markdown",
   "id": "ece17df6",
   "metadata": {},
   "source": [
    "## 4: User-defined functions\n",
    "\n",
    "- How to write a function without arguments?\n",
    "- How to write a function with arguments?\n",
    "- How to write a function that returns a value?\n",
    "- Tuple data types and how it's different from a list"
   ]
  },
  {
   "cell_type": "markdown",
   "id": "32d84efe",
   "metadata": {},
   "source": [
    "### 4.1 Defining a function"
   ]
  },
  {
   "cell_type": "code",
   "execution_count": 1,
   "id": "9d3166af",
   "metadata": {},
   "outputs": [],
   "source": [
    "# A function to calculate cube of 4.\n",
    "\n",
    "def cube(): # header\n",
    "    cube_value = 4 ** 3 # body \n",
    "    print(cube_value)"
   ]
  },
  {
   "cell_type": "markdown",
   "id": "5b30fbca",
   "metadata": {},
   "source": [
    "### 4.2 Calling a function"
   ]
  },
  {
   "cell_type": "code",
   "execution_count": 2,
   "id": "72d7a116",
   "metadata": {},
   "outputs": [
    {
     "name": "stdout",
     "output_type": "stream",
     "text": [
      "64\n"
     ]
    }
   ],
   "source": [
    "cube()"
   ]
  },
  {
   "cell_type": "markdown",
   "id": "772d2059",
   "metadata": {},
   "source": [
    "### 4.3 Adding Parameters to functions\n",
    "\n",
    "> Above function is specific to 4. How can we write a function which can calculate cube of any number you pass it to? <b> Adding Parameters </b>"
   ]
  },
  {
   "cell_type": "code",
   "execution_count": 3,
   "id": "0c9a814a",
   "metadata": {},
   "outputs": [
    {
     "name": "stdout",
     "output_type": "stream",
     "text": [
      "8\n"
     ]
    }
   ],
   "source": [
    "# A function to calculate cube of a given number.\n",
    "\n",
    "def cube(number_you_want_to_cube):\n",
    "    cube_value = number_you_want_to_cube ** 3\n",
    "    print(cube_value)\n",
    "    \n",
    "cube(2)"
   ]
  },
  {
   "cell_type": "code",
   "execution_count": 4,
   "id": "c3130074",
   "metadata": {},
   "outputs": [
    {
     "name": "stdout",
     "output_type": "stream",
     "text": [
      "21.484951999999996\n"
     ]
    }
   ],
   "source": [
    "cube(2.78)"
   ]
  },
  {
   "cell_type": "markdown",
   "id": "a5510656",
   "metadata": {},
   "source": [
    "### 4.4 Parameters and Argurments of a function\n",
    "\n",
    "> When defining a function like <b>def cube(number_you_want_to_cube):</b> , number_you_want_to_cube is a parameter of the function named cube.\n",
    "\n",
    "> When calling a function like <b>cube(2)</b>, 2 is called the argument of the function named cube."
   ]
  },
  {
   "cell_type": "markdown",
   "id": "9c07f092",
   "metadata": {},
   "source": [
    "### 4.5 Returning a value from a function and it's importance.\n",
    "\n",
    "> Let's suppose from the above function we want to assign the value after we cube a number to a variable and use it further in our code."
   ]
  },
  {
   "cell_type": "code",
   "execution_count": 5,
   "id": "208b0c9c",
   "metadata": {},
   "outputs": [
    {
     "name": "stdout",
     "output_type": "stream",
     "text": [
      "27\n"
     ]
    },
    {
     "ename": "TypeError",
     "evalue": "unsupported operand type(s) for *: 'int' and 'NoneType'",
     "output_type": "error",
     "traceback": [
      "\u001b[0;31m---------------------------------------------------------------------------\u001b[0m",
      "\u001b[0;31mTypeError\u001b[0m                                 Traceback (most recent call last)",
      "\u001b[0;32m/var/folders/3b/tzn1v6ls71388q_f0vnpvnj00000gn/T/ipykernel_56727/153843336.py\u001b[0m in \u001b[0;36m<module>\u001b[0;34m\u001b[0m\n\u001b[1;32m      1\u001b[0m \u001b[0ma\u001b[0m \u001b[0;34m=\u001b[0m \u001b[0mcube\u001b[0m\u001b[0;34m(\u001b[0m\u001b[0;36m3\u001b[0m\u001b[0;34m)\u001b[0m\u001b[0;34m\u001b[0m\u001b[0;34m\u001b[0m\u001b[0m\n\u001b[0;32m----> 2\u001b[0;31m \u001b[0;36m2\u001b[0m \u001b[0;34m*\u001b[0m \u001b[0ma\u001b[0m\u001b[0;34m\u001b[0m\u001b[0;34m\u001b[0m\u001b[0m\n\u001b[0m",
      "\u001b[0;31mTypeError\u001b[0m: unsupported operand type(s) for *: 'int' and 'NoneType'"
     ]
    }
   ],
   "source": [
    "a = cube(3)\n",
    "2 * a"
   ]
  },
  {
   "cell_type": "markdown",
   "id": "15a42b6b",
   "metadata": {},
   "source": [
    "> This is happening because if you don't return anything from a function ,it returns None. So even if you have written the code like:"
   ]
  },
  {
   "cell_type": "code",
   "execution_count": null,
   "id": "66cac4e3",
   "metadata": {},
   "outputs": [],
   "source": [
    "def cube(number_you_want_to_cube):\n",
    "    cube_value = number_you_want_to_cube ** 3\n",
    "    print(cube_value)"
   ]
  },
  {
   "cell_type": "markdown",
   "id": "286a45b7",
   "metadata": {},
   "source": [
    "- In reality, the code is like:"
   ]
  },
  {
   "cell_type": "code",
   "execution_count": null,
   "id": "74a54a95",
   "metadata": {},
   "outputs": [],
   "source": [
    "def cube(number_you_want_to_cube):\n",
    "    cube_value = number_you_want_to_cube ** 3\n",
    "    print(cube_value)\n",
    "    return None #hidden"
   ]
  },
  {
   "cell_type": "markdown",
   "id": "5b4aa929",
   "metadata": {},
   "source": [
    "- To take care of this issue and correctly assign values returned from a function to a variable, we write return statements in a function."
   ]
  },
  {
   "cell_type": "code",
   "execution_count": 6,
   "id": "a3fbe96e",
   "metadata": {},
   "outputs": [],
   "source": [
    "def cube(number_you_want_to_cube):\n",
    "    cube_value = number_you_want_to_cube ** 3\n",
    "    return cube_value"
   ]
  },
  {
   "cell_type": "code",
   "execution_count": 7,
   "id": "78cb01bc",
   "metadata": {},
   "outputs": [
    {
     "data": {
      "text/plain": [
       "54"
      ]
     },
     "execution_count": 7,
     "metadata": {},
     "output_type": "execute_result"
    }
   ],
   "source": [
    "a = cube(3)\n",
    "2 * a"
   ]
  },
  {
   "cell_type": "code",
   "execution_count": 8,
   "id": "86f45a63",
   "metadata": {},
   "outputs": [
    {
     "data": {
      "text/plain": [
       "27"
      ]
     },
     "execution_count": 8,
     "metadata": {},
     "output_type": "execute_result"
    }
   ],
   "source": [
    "a"
   ]
  },
  {
   "cell_type": "markdown",
   "id": "96a7edab",
   "metadata": {},
   "source": [
    "### 4.6 A function with multiple parameters and single value returned"
   ]
  },
  {
   "cell_type": "code",
   "execution_count": 9,
   "id": "5393defb",
   "metadata": {},
   "outputs": [],
   "source": [
    "# A function to calculate any power of any number\n",
    "\n",
    "def power(number1, number2):\n",
    "    value = number1 ** number2\n",
    "    return value"
   ]
  },
  {
   "cell_type": "markdown",
   "id": "5adf9c0c",
   "metadata": {},
   "source": [
    "- The function <b> power </b> has two parameters: number1 and number2.\n",
    "- When calling the function, you need to provide 2 arguments as well.\n",
    "> number of arguments passed while calling = number of parameters while defining a function\n",
    "- The order you pass the arguments is the order in which they are assigned to the parameters."
   ]
  },
  {
   "cell_type": "code",
   "execution_count": 10,
   "id": "745d2053",
   "metadata": {},
   "outputs": [
    {
     "ename": "TypeError",
     "evalue": "power() missing 1 required positional argument: 'number2'",
     "output_type": "error",
     "traceback": [
      "\u001b[0;31m---------------------------------------------------------------------------\u001b[0m",
      "\u001b[0;31mTypeError\u001b[0m                                 Traceback (most recent call last)",
      "\u001b[0;32m/var/folders/3b/tzn1v6ls71388q_f0vnpvnj00000gn/T/ipykernel_56727/2828352081.py\u001b[0m in \u001b[0;36m<module>\u001b[0;34m\u001b[0m\n\u001b[0;32m----> 1\u001b[0;31m \u001b[0mpower\u001b[0m\u001b[0;34m(\u001b[0m\u001b[0;36m2\u001b[0m\u001b[0;34m)\u001b[0m\u001b[0;34m\u001b[0m\u001b[0;34m\u001b[0m\u001b[0m\n\u001b[0m",
      "\u001b[0;31mTypeError\u001b[0m: power() missing 1 required positional argument: 'number2'"
     ]
    }
   ],
   "source": [
    "power(2)"
   ]
  },
  {
   "cell_type": "code",
   "execution_count": 11,
   "id": "48eef0e2",
   "metadata": {},
   "outputs": [
    {
     "data": {
      "text/plain": [
       "8"
      ]
     },
     "execution_count": 11,
     "metadata": {},
     "output_type": "execute_result"
    }
   ],
   "source": [
    "power(2,3)\n",
    "# number1 = 2\n",
    "# number2 = 3"
   ]
  },
  {
   "cell_type": "code",
   "execution_count": 12,
   "id": "c18343ee",
   "metadata": {},
   "outputs": [
    {
     "data": {
      "text/plain": [
       "9"
      ]
     },
     "execution_count": 12,
     "metadata": {},
     "output_type": "execute_result"
    }
   ],
   "source": [
    "power(3,2)\n",
    "# number1 = 3\n",
    "# number2 = 2"
   ]
  },
  {
   "cell_type": "markdown",
   "id": "62f379bf",
   "metadata": {},
   "source": [
    "### 4.7 A function with multiple parameters and multiple values returned"
   ]
  },
  {
   "cell_type": "code",
   "execution_count": 13,
   "id": "bdbdec14",
   "metadata": {},
   "outputs": [],
   "source": [
    "def power(number1, number2):\n",
    "    value1 = number1 ** number2\n",
    "    value2 = number2 ** number1\n",
    "    return value1,value2\n",
    "\n",
    "a = power(2,3)"
   ]
  },
  {
   "cell_type": "code",
   "execution_count": 14,
   "id": "5e5a9f35",
   "metadata": {},
   "outputs": [
    {
     "data": {
      "text/plain": [
       "(8, 9)"
      ]
     },
     "execution_count": 14,
     "metadata": {},
     "output_type": "execute_result"
    }
   ],
   "source": [
    "a"
   ]
  },
  {
   "cell_type": "code",
   "execution_count": 15,
   "id": "2d6b4c5f",
   "metadata": {},
   "outputs": [
    {
     "data": {
      "text/plain": [
       "tuple"
      ]
     },
     "execution_count": 15,
     "metadata": {},
     "output_type": "execute_result"
    }
   ],
   "source": [
    "type(a)"
   ]
  },
  {
   "cell_type": "markdown",
   "id": "51495ebb",
   "metadata": {},
   "source": [
    "### 4.8 Tuple Datatypes\n",
    "\n",
    "> Just like lists but values once stored can't be changed i.e. Tuples are immutable.\n",
    "\n",
    "> You create a tuple using parentheses ( ), unlike lists where we use square brackets [ ]"
   ]
  },
  {
   "cell_type": "code",
   "execution_count": 16,
   "id": "be607865",
   "metadata": {},
   "outputs": [],
   "source": [
    "lis = [1,3,'Data']\n",
    "tup = (1,3,'Data')"
   ]
  },
  {
   "cell_type": "code",
   "execution_count": 17,
   "id": "2dc3457b",
   "metadata": {},
   "outputs": [
    {
     "data": {
      "text/plain": [
       "[5, 3, 'Data']"
      ]
     },
     "execution_count": 17,
     "metadata": {},
     "output_type": "execute_result"
    }
   ],
   "source": [
    "lis[0] = 5\n",
    "lis"
   ]
  },
  {
   "cell_type": "code",
   "execution_count": 18,
   "id": "bd9013fb",
   "metadata": {},
   "outputs": [
    {
     "ename": "TypeError",
     "evalue": "'tuple' object does not support item assignment",
     "output_type": "error",
     "traceback": [
      "\u001b[0;31m---------------------------------------------------------------------------\u001b[0m",
      "\u001b[0;31mTypeError\u001b[0m                                 Traceback (most recent call last)",
      "\u001b[0;32m/var/folders/3b/tzn1v6ls71388q_f0vnpvnj00000gn/T/ipykernel_56727/1390841366.py\u001b[0m in \u001b[0;36m<module>\u001b[0;34m\u001b[0m\n\u001b[0;32m----> 1\u001b[0;31m \u001b[0mtup\u001b[0m\u001b[0;34m[\u001b[0m\u001b[0;36m0\u001b[0m\u001b[0;34m]\u001b[0m \u001b[0;34m=\u001b[0m \u001b[0;36m5\u001b[0m\u001b[0;34m\u001b[0m\u001b[0;34m\u001b[0m\u001b[0m\n\u001b[0m\u001b[1;32m      2\u001b[0m \u001b[0mtup\u001b[0m\u001b[0;34m\u001b[0m\u001b[0;34m\u001b[0m\u001b[0m\n",
      "\u001b[0;31mTypeError\u001b[0m: 'tuple' object does not support item assignment"
     ]
    }
   ],
   "source": [
    "tup[0] = 5\n",
    "tup"
   ]
  },
  {
   "cell_type": "code",
   "execution_count": null,
   "id": "1d8af4d5",
   "metadata": {},
   "outputs": [],
   "source": []
  }
 ],
 "metadata": {
  "kernelspec": {
   "display_name": "Python 3 (ipykernel)",
   "language": "python",
   "name": "python3"
  },
  "language_info": {
   "codemirror_mode": {
    "name": "ipython",
    "version": 3
   },
   "file_extension": ".py",
   "mimetype": "text/x-python",
   "name": "python",
   "nbconvert_exporter": "python",
   "pygments_lexer": "ipython3",
   "version": "3.9.7"
  }
 },
 "nbformat": 4,
 "nbformat_minor": 5
}
