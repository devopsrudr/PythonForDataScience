{
 "cells": [
  {
   "cell_type": "markdown",
   "id": "cf6e22a9",
   "metadata": {},
   "source": [
    "## 5.1 Scope in User-defined Functions\n",
    "\n",
    "> Scope is defined as the part of program where an object or the variable is accessible.\n",
    "There are mainly three scopes:\n",
    "\n",
    "- <b>Global Scope: </b> Object or variable defined in main body of the program script. Accessible everywhere.\n",
    "- <b>Local Scope: </b> Object or variable defined inside a function. Once the function is executed, the object or variable ceases to exist.\n",
    "- <b> Built-in Scope: </b> Object or variable defined inside built-in modules."
   ]
  },
  {
   "cell_type": "markdown",
   "id": "98c093ae",
   "metadata": {},
   "source": [
    "## 5.2 Local and Global Scope and Their Differences"
   ]
  },
  {
   "cell_type": "code",
   "execution_count": 1,
   "id": "6bedf537",
   "metadata": {},
   "outputs": [],
   "source": [
    "x = 5 #Global Scope\n",
    "\n",
    "def cube(number_you_want_to_cube):\n",
    "    cube_value = number_you_want_to_cube ** 3 #cube_value has local scope\n",
    "    return cube_value"
   ]
  },
  {
   "cell_type": "code",
   "execution_count": 2,
   "id": "44b5270e",
   "metadata": {},
   "outputs": [
    {
     "data": {
      "text/plain": [
       "5"
      ]
     },
     "execution_count": 2,
     "metadata": {},
     "output_type": "execute_result"
    }
   ],
   "source": [
    "x"
   ]
  },
  {
   "cell_type": "code",
   "execution_count": 3,
   "id": "ecaa13b8",
   "metadata": {},
   "outputs": [
    {
     "data": {
      "text/plain": [
       "1000"
      ]
     },
     "execution_count": 3,
     "metadata": {},
     "output_type": "execute_result"
    }
   ],
   "source": [
    "cube(10)"
   ]
  },
  {
   "cell_type": "code",
   "execution_count": 4,
   "id": "e4158100",
   "metadata": {},
   "outputs": [
    {
     "data": {
      "text/plain": [
       "5"
      ]
     },
     "execution_count": 4,
     "metadata": {},
     "output_type": "execute_result"
    }
   ],
   "source": [
    "x"
   ]
  },
  {
   "cell_type": "code",
   "execution_count": 5,
   "id": "b609b38f",
   "metadata": {},
   "outputs": [
    {
     "ename": "NameError",
     "evalue": "name 'cube_value' is not defined",
     "output_type": "error",
     "traceback": [
      "\u001b[0;31m---------------------------------------------------------------------------\u001b[0m",
      "\u001b[0;31mNameError\u001b[0m                                 Traceback (most recent call last)",
      "\u001b[0;32m/var/folders/3b/tzn1v6ls71388q_f0vnpvnj00000gn/T/ipykernel_61984/1227604201.py\u001b[0m in \u001b[0;36m<module>\u001b[0;34m\u001b[0m\n\u001b[0;32m----> 1\u001b[0;31m \u001b[0mcube_value\u001b[0m\u001b[0;34m\u001b[0m\u001b[0;34m\u001b[0m\u001b[0m\n\u001b[0m",
      "\u001b[0;31mNameError\u001b[0m: name 'cube_value' is not defined"
     ]
    }
   ],
   "source": [
    "cube_value"
   ]
  },
  {
   "cell_type": "code",
   "execution_count": 6,
   "id": "647723b7",
   "metadata": {},
   "outputs": [
    {
     "data": {
      "text/plain": [
       "125"
      ]
     },
     "execution_count": 6,
     "metadata": {},
     "output_type": "execute_result"
    }
   ],
   "source": [
    "cube(x)"
   ]
  },
  {
   "cell_type": "code",
   "execution_count": 7,
   "id": "7da8a4d2",
   "metadata": {},
   "outputs": [],
   "source": [
    "x = 5 #x has global scope\n",
    "\n",
    "def cube(number_you_want_to_cube):\n",
    "    x = number_you_want_to_cube ** 3 # x has local scope\n",
    "    return x"
   ]
  },
  {
   "cell_type": "code",
   "execution_count": 8,
   "id": "05e84a39",
   "metadata": {},
   "outputs": [
    {
     "data": {
      "text/plain": [
       "1000"
      ]
     },
     "execution_count": 8,
     "metadata": {},
     "output_type": "execute_result"
    }
   ],
   "source": [
    "cube(10)"
   ]
  },
  {
   "cell_type": "code",
   "execution_count": 9,
   "id": "ba36440a",
   "metadata": {},
   "outputs": [
    {
     "data": {
      "text/plain": [
       "5"
      ]
     },
     "execution_count": 9,
     "metadata": {},
     "output_type": "execute_result"
    }
   ],
   "source": [
    "x"
   ]
  },
  {
   "cell_type": "code",
   "execution_count": 10,
   "id": "64781713",
   "metadata": {},
   "outputs": [],
   "source": [
    "x = 5 #x has global scope\n",
    "\n",
    "def cube(number_you_want_to_cube):\n",
    "    print(x)\n",
    "    y = x ** 3 # y has local scope\n",
    "    return y"
   ]
  },
  {
   "cell_type": "code",
   "execution_count": 11,
   "id": "8cd5c4e4",
   "metadata": {},
   "outputs": [
    {
     "name": "stdout",
     "output_type": "stream",
     "text": [
      "5\n"
     ]
    },
    {
     "data": {
      "text/plain": [
       "125"
      ]
     },
     "execution_count": 11,
     "metadata": {},
     "output_type": "execute_result"
    }
   ],
   "source": [
    "cube(10)"
   ]
  },
  {
   "cell_type": "code",
   "execution_count": 12,
   "id": "c7a0215f",
   "metadata": {},
   "outputs": [
    {
     "name": "stdout",
     "output_type": "stream",
     "text": [
      "20\n"
     ]
    },
    {
     "data": {
      "text/plain": [
       "8000"
      ]
     },
     "execution_count": 12,
     "metadata": {},
     "output_type": "execute_result"
    }
   ],
   "source": [
    "x = 20 # Re-assign value to global scope variable.\n",
    "\n",
    "cube(10) #new value is accessed."
   ]
  },
  {
   "cell_type": "code",
   "execution_count": 13,
   "id": "43b541f5",
   "metadata": {},
   "outputs": [
    {
     "data": {
      "text/plain": [
       "20"
      ]
     },
     "execution_count": 13,
     "metadata": {},
     "output_type": "execute_result"
    }
   ],
   "source": [
    "x"
   ]
  },
  {
   "cell_type": "code",
   "execution_count": 14,
   "id": "c2d46b9f",
   "metadata": {},
   "outputs": [],
   "source": [
    "# Change Global Scope Variable in a function\n",
    "\n",
    "x = 5 #x has global scope\n",
    "\n",
    "def cube(number_you_want_to_cube):\n",
    "    global x # global keyword helps you change global variables in local scope.\n",
    "    print(x)\n",
    "    x = x ** 3\n",
    "    return x"
   ]
  },
  {
   "cell_type": "code",
   "execution_count": 15,
   "id": "683f8dd1",
   "metadata": {},
   "outputs": [
    {
     "name": "stdout",
     "output_type": "stream",
     "text": [
      "5\n"
     ]
    },
    {
     "data": {
      "text/plain": [
       "125"
      ]
     },
     "execution_count": 15,
     "metadata": {},
     "output_type": "execute_result"
    }
   ],
   "source": [
    "cube(10)"
   ]
  },
  {
   "cell_type": "code",
   "execution_count": 16,
   "id": "7fabf60b",
   "metadata": {},
   "outputs": [
    {
     "data": {
      "text/plain": [
       "125"
      ]
     },
     "execution_count": 16,
     "metadata": {},
     "output_type": "execute_result"
    }
   ],
   "source": [
    "x"
   ]
  },
  {
   "cell_type": "code",
   "execution_count": 17,
   "id": "b8c72fa5",
   "metadata": {},
   "outputs": [],
   "source": [
    "x = 5 #x has global scope\n",
    "\n",
    "def cube(number_you_want_to_cube):\n",
    "    print(x)\n",
    "    x = x ** 3\n",
    "    return x"
   ]
  },
  {
   "cell_type": "code",
   "execution_count": 18,
   "id": "f923873e",
   "metadata": {},
   "outputs": [
    {
     "ename": "UnboundLocalError",
     "evalue": "local variable 'x' referenced before assignment",
     "output_type": "error",
     "traceback": [
      "\u001b[0;31m---------------------------------------------------------------------------\u001b[0m",
      "\u001b[0;31mUnboundLocalError\u001b[0m                         Traceback (most recent call last)",
      "\u001b[0;32m/var/folders/3b/tzn1v6ls71388q_f0vnpvnj00000gn/T/ipykernel_61984/4028348597.py\u001b[0m in \u001b[0;36m<module>\u001b[0;34m\u001b[0m\n\u001b[0;32m----> 1\u001b[0;31m \u001b[0mcube\u001b[0m\u001b[0;34m(\u001b[0m\u001b[0;36m10\u001b[0m\u001b[0;34m)\u001b[0m\u001b[0;34m\u001b[0m\u001b[0;34m\u001b[0m\u001b[0m\n\u001b[0m",
      "\u001b[0;32m/var/folders/3b/tzn1v6ls71388q_f0vnpvnj00000gn/T/ipykernel_61984/57325734.py\u001b[0m in \u001b[0;36mcube\u001b[0;34m(number_you_want_to_cube)\u001b[0m\n\u001b[1;32m      2\u001b[0m \u001b[0;34m\u001b[0m\u001b[0m\n\u001b[1;32m      3\u001b[0m \u001b[0;32mdef\u001b[0m \u001b[0mcube\u001b[0m\u001b[0;34m(\u001b[0m\u001b[0mnumber_you_want_to_cube\u001b[0m\u001b[0;34m)\u001b[0m\u001b[0;34m:\u001b[0m\u001b[0;34m\u001b[0m\u001b[0;34m\u001b[0m\u001b[0m\n\u001b[0;32m----> 4\u001b[0;31m     \u001b[0mprint\u001b[0m\u001b[0;34m(\u001b[0m\u001b[0mx\u001b[0m\u001b[0;34m)\u001b[0m\u001b[0;34m\u001b[0m\u001b[0;34m\u001b[0m\u001b[0m\n\u001b[0m\u001b[1;32m      5\u001b[0m     \u001b[0mx\u001b[0m \u001b[0;34m=\u001b[0m \u001b[0mx\u001b[0m \u001b[0;34m**\u001b[0m \u001b[0;36m3\u001b[0m\u001b[0;34m\u001b[0m\u001b[0;34m\u001b[0m\u001b[0m\n\u001b[1;32m      6\u001b[0m     \u001b[0;32mreturn\u001b[0m \u001b[0mx\u001b[0m\u001b[0;34m\u001b[0m\u001b[0;34m\u001b[0m\u001b[0m\n",
      "\u001b[0;31mUnboundLocalError\u001b[0m: local variable 'x' referenced before assignment"
     ]
    }
   ],
   "source": [
    "cube(10)"
   ]
  },
  {
   "cell_type": "code",
   "execution_count": 19,
   "id": "0bbaa162",
   "metadata": {},
   "outputs": [
    {
     "data": {
      "text/plain": [
       "5"
      ]
     },
     "execution_count": 19,
     "metadata": {},
     "output_type": "execute_result"
    }
   ],
   "source": [
    "x"
   ]
  },
  {
   "cell_type": "code",
   "execution_count": 20,
   "id": "d2915d7f",
   "metadata": {},
   "outputs": [],
   "source": [
    "x = 5\n",
    "\n",
    "def cube(number_you_want_to_cube):\n",
    "    global x # global keyword helps you change global variables in local scope.\n",
    "    y = x ** 3\n",
    "    x = 8\n",
    "    return y"
   ]
  },
  {
   "cell_type": "code",
   "execution_count": 21,
   "id": "c59de0b5",
   "metadata": {},
   "outputs": [
    {
     "data": {
      "text/plain": [
       "125"
      ]
     },
     "execution_count": 21,
     "metadata": {},
     "output_type": "execute_result"
    }
   ],
   "source": [
    "cube(10)"
   ]
  },
  {
   "cell_type": "code",
   "execution_count": 22,
   "id": "7c0923be",
   "metadata": {},
   "outputs": [
    {
     "data": {
      "text/plain": [
       "8"
      ]
     },
     "execution_count": 22,
     "metadata": {},
     "output_type": "execute_result"
    }
   ],
   "source": [
    "x"
   ]
  },
  {
   "cell_type": "markdown",
   "id": "c2230bc8",
   "metadata": {},
   "source": [
    "## 5.3 Built-in Scope"
   ]
  },
  {
   "cell_type": "code",
   "execution_count": 23,
   "id": "96c5d2db",
   "metadata": {},
   "outputs": [
    {
     "data": {
      "text/plain": [
       "['ArithmeticError',\n",
       " 'AssertionError',\n",
       " 'AttributeError',\n",
       " 'BaseException',\n",
       " 'BlockingIOError',\n",
       " 'BrokenPipeError',\n",
       " 'BufferError',\n",
       " 'BytesWarning',\n",
       " 'ChildProcessError',\n",
       " 'ConnectionAbortedError',\n",
       " 'ConnectionError',\n",
       " 'ConnectionRefusedError',\n",
       " 'ConnectionResetError',\n",
       " 'DeprecationWarning',\n",
       " 'EOFError',\n",
       " 'Ellipsis',\n",
       " 'EnvironmentError',\n",
       " 'Exception',\n",
       " 'False',\n",
       " 'FileExistsError',\n",
       " 'FileNotFoundError',\n",
       " 'FloatingPointError',\n",
       " 'FutureWarning',\n",
       " 'GeneratorExit',\n",
       " 'IOError',\n",
       " 'ImportError',\n",
       " 'ImportWarning',\n",
       " 'IndentationError',\n",
       " 'IndexError',\n",
       " 'InterruptedError',\n",
       " 'IsADirectoryError',\n",
       " 'KeyError',\n",
       " 'KeyboardInterrupt',\n",
       " 'LookupError',\n",
       " 'MemoryError',\n",
       " 'ModuleNotFoundError',\n",
       " 'NameError',\n",
       " 'None',\n",
       " 'NotADirectoryError',\n",
       " 'NotImplemented',\n",
       " 'NotImplementedError',\n",
       " 'OSError',\n",
       " 'OverflowError',\n",
       " 'PendingDeprecationWarning',\n",
       " 'PermissionError',\n",
       " 'ProcessLookupError',\n",
       " 'RecursionError',\n",
       " 'ReferenceError',\n",
       " 'ResourceWarning',\n",
       " 'RuntimeError',\n",
       " 'RuntimeWarning',\n",
       " 'StopAsyncIteration',\n",
       " 'StopIteration',\n",
       " 'SyntaxError',\n",
       " 'SyntaxWarning',\n",
       " 'SystemError',\n",
       " 'SystemExit',\n",
       " 'TabError',\n",
       " 'TimeoutError',\n",
       " 'True',\n",
       " 'TypeError',\n",
       " 'UnboundLocalError',\n",
       " 'UnicodeDecodeError',\n",
       " 'UnicodeEncodeError',\n",
       " 'UnicodeError',\n",
       " 'UnicodeTranslateError',\n",
       " 'UnicodeWarning',\n",
       " 'UserWarning',\n",
       " 'ValueError',\n",
       " 'Warning',\n",
       " 'ZeroDivisionError',\n",
       " '__IPYTHON__',\n",
       " '__build_class__',\n",
       " '__debug__',\n",
       " '__doc__',\n",
       " '__import__',\n",
       " '__loader__',\n",
       " '__name__',\n",
       " '__package__',\n",
       " '__spec__',\n",
       " 'abs',\n",
       " 'all',\n",
       " 'any',\n",
       " 'ascii',\n",
       " 'bin',\n",
       " 'bool',\n",
       " 'breakpoint',\n",
       " 'bytearray',\n",
       " 'bytes',\n",
       " 'callable',\n",
       " 'chr',\n",
       " 'classmethod',\n",
       " 'compile',\n",
       " 'complex',\n",
       " 'copyright',\n",
       " 'credits',\n",
       " 'delattr',\n",
       " 'dict',\n",
       " 'dir',\n",
       " 'display',\n",
       " 'divmod',\n",
       " 'enumerate',\n",
       " 'eval',\n",
       " 'exec',\n",
       " 'execfile',\n",
       " 'filter',\n",
       " 'float',\n",
       " 'format',\n",
       " 'frozenset',\n",
       " 'get_ipython',\n",
       " 'getattr',\n",
       " 'globals',\n",
       " 'hasattr',\n",
       " 'hash',\n",
       " 'help',\n",
       " 'hex',\n",
       " 'id',\n",
       " 'input',\n",
       " 'int',\n",
       " 'isinstance',\n",
       " 'issubclass',\n",
       " 'iter',\n",
       " 'len',\n",
       " 'license',\n",
       " 'list',\n",
       " 'locals',\n",
       " 'map',\n",
       " 'max',\n",
       " 'memoryview',\n",
       " 'min',\n",
       " 'next',\n",
       " 'object',\n",
       " 'oct',\n",
       " 'open',\n",
       " 'ord',\n",
       " 'pow',\n",
       " 'print',\n",
       " 'property',\n",
       " 'range',\n",
       " 'repr',\n",
       " 'reversed',\n",
       " 'round',\n",
       " 'runfile',\n",
       " 'set',\n",
       " 'setattr',\n",
       " 'slice',\n",
       " 'sorted',\n",
       " 'staticmethod',\n",
       " 'str',\n",
       " 'sum',\n",
       " 'super',\n",
       " 'tuple',\n",
       " 'type',\n",
       " 'vars',\n",
       " 'zip']"
      ]
     },
     "execution_count": 23,
     "metadata": {},
     "output_type": "execute_result"
    }
   ],
   "source": [
    "import builtins\n",
    "dir(builtins)"
   ]
  },
  {
   "cell_type": "markdown",
   "id": "61587856",
   "metadata": {},
   "source": [
    "## 5.4 Nested Functions"
   ]
  },
  {
   "cell_type": "code",
   "execution_count": null,
   "id": "d2a48092",
   "metadata": {},
   "outputs": [],
   "source": [
    "# global scope\n",
    "\n",
    "def func1():\n",
    "    # Enclosing scope\n",
    "    def func2():\n",
    "        # local scope"
   ]
  },
  {
   "cell_type": "code",
   "execution_count": 24,
   "id": "9b806790",
   "metadata": {},
   "outputs": [],
   "source": [
    "# Doing same thing repeatedly\n",
    "\n",
    "def remainder_by_2(num1,num2,num3,num4,num5):\n",
    "    new_num1 = num1 % 2\n",
    "    new_num2 = num2 % 2\n",
    "    new_num3 = num3 % 2\n",
    "    new_num4 = num4 % 2\n",
    "    new_num5 = num5 % 2\n",
    "    return (new_num1, new_num2, new_num3, new_num4, new_num5)"
   ]
  },
  {
   "cell_type": "code",
   "execution_count": 25,
   "id": "10855981",
   "metadata": {},
   "outputs": [
    {
     "data": {
      "text/plain": [
       "(0, 1, 1, 1, 1)"
      ]
     },
     "execution_count": 25,
     "metadata": {},
     "output_type": "execute_result"
    }
   ],
   "source": [
    "remainder_by_2(2,3,5,77,43)"
   ]
  },
  {
   "cell_type": "code",
   "execution_count": 26,
   "id": "66278027",
   "metadata": {},
   "outputs": [],
   "source": [
    "def remainder_by_2(num1,num2,num3,num4,num5):\n",
    "    def rem(num): # Function rem has local scope\n",
    "        return num % 2\n",
    "    return (rem(num1),rem(num2),rem(num3),rem(num4),rem(num5))"
   ]
  },
  {
   "cell_type": "code",
   "execution_count": 27,
   "id": "229d2a3f",
   "metadata": {},
   "outputs": [
    {
     "data": {
      "text/plain": [
       "(0, 1, 1, 1, 1)"
      ]
     },
     "execution_count": 27,
     "metadata": {},
     "output_type": "execute_result"
    }
   ],
   "source": [
    "remainder_by_2(2,3,5,77,43)"
   ]
  },
  {
   "cell_type": "code",
   "execution_count": 28,
   "id": "bf45f2aa",
   "metadata": {},
   "outputs": [
    {
     "ename": "NameError",
     "evalue": "name 'rem' is not defined",
     "output_type": "error",
     "traceback": [
      "\u001b[0;31m---------------------------------------------------------------------------\u001b[0m",
      "\u001b[0;31mNameError\u001b[0m                                 Traceback (most recent call last)",
      "\u001b[0;32m/var/folders/3b/tzn1v6ls71388q_f0vnpvnj00000gn/T/ipykernel_61984/3562274330.py\u001b[0m in \u001b[0;36m<module>\u001b[0;34m\u001b[0m\n\u001b[0;32m----> 1\u001b[0;31m \u001b[0mrem\u001b[0m\u001b[0;34m(\u001b[0m\u001b[0;36m5\u001b[0m\u001b[0;34m)\u001b[0m\u001b[0;34m\u001b[0m\u001b[0;34m\u001b[0m\u001b[0m\n\u001b[0m",
      "\u001b[0;31mNameError\u001b[0m: name 'rem' is not defined"
     ]
    }
   ],
   "source": [
    "rem(5)"
   ]
  },
  {
   "cell_type": "code",
   "execution_count": 29,
   "id": "11c32059",
   "metadata": {},
   "outputs": [],
   "source": [
    "def power(exp):\n",
    "    \n",
    "    def assign_base(base):\n",
    "        \n",
    "        return base ** exp\n",
    "    return assign_base"
   ]
  },
  {
   "cell_type": "code",
   "execution_count": 30,
   "id": "64815bac",
   "metadata": {},
   "outputs": [],
   "source": [
    "a = power(2) # a is now a function which takes argument base and exp has been set to 2."
   ]
  },
  {
   "cell_type": "markdown",
   "id": "6cbc618e",
   "metadata": {},
   "source": [
    "- This is called <b>closure</b> property. This means that the nested or inner function remembers the state of its enclosing scope when called. Thus, anything defined locally in the enclosing scope is available to the inner function even when the outer function has finished execution."
   ]
  },
  {
   "cell_type": "code",
   "execution_count": 31,
   "id": "c7295fdf",
   "metadata": {},
   "outputs": [
    {
     "data": {
      "text/plain": [
       "function"
      ]
     },
     "execution_count": 31,
     "metadata": {},
     "output_type": "execute_result"
    }
   ],
   "source": [
    "type(a)"
   ]
  },
  {
   "cell_type": "code",
   "execution_count": 32,
   "id": "0460f95e",
   "metadata": {},
   "outputs": [
    {
     "ename": "NameError",
     "evalue": "name 'exp' is not defined",
     "output_type": "error",
     "traceback": [
      "\u001b[0;31m---------------------------------------------------------------------------\u001b[0m",
      "\u001b[0;31mNameError\u001b[0m                                 Traceback (most recent call last)",
      "\u001b[0;32m/var/folders/3b/tzn1v6ls71388q_f0vnpvnj00000gn/T/ipykernel_61984/2070948871.py\u001b[0m in \u001b[0;36m<module>\u001b[0;34m\u001b[0m\n\u001b[0;32m----> 1\u001b[0;31m \u001b[0mexp\u001b[0m\u001b[0;34m\u001b[0m\u001b[0;34m\u001b[0m\u001b[0m\n\u001b[0m",
      "\u001b[0;31mNameError\u001b[0m: name 'exp' is not defined"
     ]
    }
   ],
   "source": [
    "exp"
   ]
  },
  {
   "cell_type": "code",
   "execution_count": 33,
   "id": "dcb9f893",
   "metadata": {},
   "outputs": [
    {
     "data": {
      "text/plain": [
       "9"
      ]
     },
     "execution_count": 33,
     "metadata": {},
     "output_type": "execute_result"
    }
   ],
   "source": [
    "a(3)"
   ]
  },
  {
   "cell_type": "markdown",
   "id": "54f62c5f",
   "metadata": {},
   "source": [
    "## 5.5 Changing values in Enclosing scope\n",
    "\n",
    "> We know, to change values in global scope, we use keyword <b>global</b>.\n",
    "\n",
    "> To change values in enclosing scope, we use keyword <b>nonlocal</b>"
   ]
  },
  {
   "cell_type": "code",
   "execution_count": 34,
   "id": "b638836f",
   "metadata": {},
   "outputs": [],
   "source": [
    "x = 5 # Global Scope\n",
    "\n",
    "def cube(value):\n",
    "    global x\n",
    "    x = value * 2\n",
    "    y = 2 # Enclosing Scope\n",
    "    print(\"Original value of y in enclosing scope:\", y)\n",
    "    def change_y():\n",
    "        nonlocal y\n",
    "        y = 100 # Local Scope\n",
    "        print(\"Changed value of y in enclosing scope:\", y)\n",
    "    change_y()"
   ]
  },
  {
   "cell_type": "code",
   "execution_count": 35,
   "id": "49b8911e",
   "metadata": {},
   "outputs": [
    {
     "name": "stdout",
     "output_type": "stream",
     "text": [
      "Original value of y in enclosing scope: 2\n",
      "Changed value of y in enclosing scope: 100\n"
     ]
    }
   ],
   "source": [
    "cube(10)"
   ]
  },
  {
   "cell_type": "code",
   "execution_count": 36,
   "id": "8025a3e6",
   "metadata": {},
   "outputs": [
    {
     "ename": "NameError",
     "evalue": "name 'y' is not defined",
     "output_type": "error",
     "traceback": [
      "\u001b[0;31m---------------------------------------------------------------------------\u001b[0m",
      "\u001b[0;31mNameError\u001b[0m                                 Traceback (most recent call last)",
      "\u001b[0;32m/var/folders/3b/tzn1v6ls71388q_f0vnpvnj00000gn/T/ipykernel_61984/3563912222.py\u001b[0m in \u001b[0;36m<module>\u001b[0;34m\u001b[0m\n\u001b[0;32m----> 1\u001b[0;31m \u001b[0my\u001b[0m\u001b[0;34m\u001b[0m\u001b[0;34m\u001b[0m\u001b[0m\n\u001b[0m",
      "\u001b[0;31mNameError\u001b[0m: name 'y' is not defined"
     ]
    }
   ],
   "source": [
    "y"
   ]
  },
  {
   "cell_type": "code",
   "execution_count": 37,
   "id": "38b77b1c",
   "metadata": {},
   "outputs": [
    {
     "data": {
      "text/plain": [
       "20"
      ]
     },
     "execution_count": 37,
     "metadata": {},
     "output_type": "execute_result"
    }
   ],
   "source": [
    "x"
   ]
  },
  {
   "cell_type": "markdown",
   "id": "1625e72f",
   "metadata": {},
   "source": [
    "## 5.6 LEGB Rule\n",
    "\n",
    "> Search is: <b>L</b>ocal scope ---> <b>E</b>nclosing scope ---> <b>G</b>lobal scope ---> <b>B</b>uilt-in scope"
   ]
  },
  {
   "cell_type": "markdown",
   "id": "8656029b",
   "metadata": {},
   "source": [
    "## 5.7 Default Arguments of User-defined functions\n",
    "\n",
    "> If a function has multiple parameters and several of them often take a certain value, then to avoid providing the values for those parameters every time we call the function, we can assign default values."
   ]
  },
  {
   "cell_type": "code",
   "execution_count": 38,
   "id": "3af4b4f0",
   "metadata": {},
   "outputs": [],
   "source": [
    "def power(base, exponent = 1):\n",
    "    value = base ** exponent\n",
    "    return value"
   ]
  },
  {
   "cell_type": "code",
   "execution_count": 39,
   "id": "04e0ab44",
   "metadata": {},
   "outputs": [
    {
     "data": {
      "text/plain": [
       "3"
      ]
     },
     "execution_count": 39,
     "metadata": {},
     "output_type": "execute_result"
    }
   ],
   "source": [
    "power(3,1)"
   ]
  },
  {
   "cell_type": "code",
   "execution_count": 40,
   "id": "0c235d1e",
   "metadata": {},
   "outputs": [
    {
     "data": {
      "text/plain": [
       "3"
      ]
     },
     "execution_count": 40,
     "metadata": {},
     "output_type": "execute_result"
    }
   ],
   "source": [
    "power(3) # By default it takes exponent = 1 when not explicitly provided."
   ]
  },
  {
   "cell_type": "code",
   "execution_count": 41,
   "id": "d7f19623",
   "metadata": {},
   "outputs": [
    {
     "data": {
      "text/plain": [
       "9"
      ]
     },
     "execution_count": 41,
     "metadata": {},
     "output_type": "execute_result"
    }
   ],
   "source": [
    "power(3,2)"
   ]
  },
  {
   "cell_type": "markdown",
   "id": "cf521c97",
   "metadata": {},
   "source": [
    "## 5.8 Flexible Arguments in User-defined Functions \n",
    "\n",
    "> Let's say you want to write a function where there is no fixed number of arguments.\n",
    "\n",
    "- Example: A function that takes all the transactions made by a person in a month and returns the total money spent by the person in that month."
   ]
  },
  {
   "cell_type": "code",
   "execution_count": 42,
   "id": "5e2893a2",
   "metadata": {},
   "outputs": [],
   "source": [
    "# variable number of positional arguments\n",
    "\n",
    "def total(*args): # '*' sign is important and not the keyword 'args'\n",
    "    s = 0\n",
    "    for transaction in args:\n",
    "        s = s + transaction\n",
    "    return s"
   ]
  },
  {
   "cell_type": "code",
   "execution_count": 43,
   "id": "1151c307",
   "metadata": {},
   "outputs": [
    {
     "data": {
      "text/plain": [
       "56"
      ]
     },
     "execution_count": 43,
     "metadata": {},
     "output_type": "execute_result"
    }
   ],
   "source": [
    "total(10,12,34)"
   ]
  },
  {
   "cell_type": "code",
   "execution_count": 44,
   "id": "f66b1a3e",
   "metadata": {},
   "outputs": [
    {
     "data": {
      "text/plain": [
       "244"
      ]
     },
     "execution_count": 44,
     "metadata": {},
     "output_type": "execute_result"
    }
   ],
   "source": [
    "total(22,29,14,37,109,33)"
   ]
  },
  {
   "cell_type": "code",
   "execution_count": 45,
   "id": "a31a1019",
   "metadata": {},
   "outputs": [
    {
     "name": "stdout",
     "output_type": "stream",
     "text": [
      "<class 'tuple'>\n"
     ]
    },
    {
     "data": {
      "text/plain": [
       "244"
      ]
     },
     "execution_count": 45,
     "metadata": {},
     "output_type": "execute_result"
    }
   ],
   "source": [
    "def total(*args): # '*' sign is important and not the keyword 'args'\n",
    "    print(type(args))\n",
    "    s = 0\n",
    "    for transaction in args:\n",
    "        s = s + transaction\n",
    "    return s\n",
    "\n",
    "total(22,29,14,37,109,33)"
   ]
  },
  {
   "cell_type": "code",
   "execution_count": 46,
   "id": "cb35c599",
   "metadata": {},
   "outputs": [
    {
     "name": "stdout",
     "output_type": "stream",
     "text": [
      "<class 'tuple'>\n"
     ]
    },
    {
     "data": {
      "text/plain": [
       "0"
      ]
     },
     "execution_count": 46,
     "metadata": {},
     "output_type": "execute_result"
    }
   ],
   "source": [
    "total()"
   ]
  },
  {
   "cell_type": "code",
   "execution_count": 47,
   "id": "447ad0ec",
   "metadata": {},
   "outputs": [],
   "source": [
    "# variable number of keyword arguments\n",
    "\n",
    "def description(**kwargs):\n",
    "    for key, value in kwargs.items():\n",
    "        print(key,\": \",value)"
   ]
  },
  {
   "cell_type": "code",
   "execution_count": 48,
   "id": "3a6deedc",
   "metadata": {},
   "outputs": [
    {
     "name": "stdout",
     "output_type": "stream",
     "text": [
      "name :  Everyday Data Science\n",
      "Type :  Youtube Channel\n",
      "Category :  Education\n"
     ]
    }
   ],
   "source": [
    "description(name='Everyday Data Science', Type='Youtube Channel', Category='Education')"
   ]
  },
  {
   "cell_type": "code",
   "execution_count": 49,
   "id": "26bb02c3",
   "metadata": {},
   "outputs": [
    {
     "name": "stdout",
     "output_type": "stream",
     "text": [
      "<class 'dict'>\n",
      "name :  Everyday Data Science\n",
      "Type :  Youtube Channel\n",
      "Category :  Education\n"
     ]
    }
   ],
   "source": [
    "def description(**kwargs):\n",
    "    print(type(kwargs))\n",
    "    for key, value in kwargs.items():\n",
    "        print(key,\": \",value)\n",
    "        \n",
    "description(name='Everyday Data Science', Type='Youtube Channel', Category='Education')"
   ]
  },
  {
   "cell_type": "code",
   "execution_count": 50,
   "id": "58710ae8",
   "metadata": {},
   "outputs": [
    {
     "name": "stdout",
     "output_type": "stream",
     "text": [
      "<class 'dict'>\n",
      "name :  Everyday Data Science\n",
      "Type :  Youtube Channel\n",
      "Category :  Education\n",
      "Subs :  2300\n"
     ]
    }
   ],
   "source": [
    "description(name='Everyday Data Science', Type='Youtube Channel', \n",
    "            Category='Education', Subs = 2300)"
   ]
  },
  {
   "cell_type": "code",
   "execution_count": 51,
   "id": "f8954d45",
   "metadata": {},
   "outputs": [],
   "source": [
    "def both(*args,**kwargs):\n",
    "    s = 0\n",
    "    for transaction in args:\n",
    "        s = s + transaction\n",
    "        \n",
    "    print(s)\n",
    "    \n",
    "    for key, value in kwargs.items():\n",
    "        print(key,\": \",value)"
   ]
  },
  {
   "cell_type": "code",
   "execution_count": 52,
   "id": "a4c988fb",
   "metadata": {},
   "outputs": [
    {
     "name": "stdout",
     "output_type": "stream",
     "text": [
      "244\n",
      "name :  Everyday Data Science\n",
      "Type :  Youtube Channel\n"
     ]
    }
   ],
   "source": [
    "both(22,29,14,37,109,33,name='Everyday Data Science', Type='Youtube Channel')"
   ]
  },
  {
   "cell_type": "code",
   "execution_count": null,
   "id": "212d389d",
   "metadata": {},
   "outputs": [],
   "source": []
  }
 ],
 "metadata": {
  "kernelspec": {
   "display_name": "Python 3 (ipykernel)",
   "language": "python",
   "name": "python3"
  },
  "language_info": {
   "codemirror_mode": {
    "name": "ipython",
    "version": 3
   },
   "file_extension": ".py",
   "mimetype": "text/x-python",
   "name": "python",
   "nbconvert_exporter": "python",
   "pygments_lexer": "ipython3",
   "version": "3.9.7"
  }
 },
 "nbformat": 4,
 "nbformat_minor": 5
}
