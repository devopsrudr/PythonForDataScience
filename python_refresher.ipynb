{
  "nbformat": 4,
  "nbformat_minor": 0,
  "metadata": {
    "colab": {
      "provenance": [],
      "authorship_tag": "ABX9TyPaDPGRtADwcKbBI+411Po9",
      "include_colab_link": true
    },
    "kernelspec": {
      "name": "python3",
      "display_name": "Python 3"
    },
    "language_info": {
      "name": "python"
    }
  },
  "cells": [
    {
      "cell_type": "markdown",
      "metadata": {
        "id": "view-in-github",
        "colab_type": "text"
      },
      "source": [
        "<a href=\"https://colab.research.google.com/github/devopsrudr/PythonForDataScience/blob/main/python_refresher.ipynb\" target=\"_parent\"><img src=\"https://colab.research.google.com/assets/colab-badge.svg\" alt=\"Open In Colab\"/></a>"
      ]
    },
    {
      "cell_type": "markdown",
      "source": [
        "**Data Types**\n",
        "\n",
        "There are lots of different types of data in the world , and python groups that data into several categories.\n",
        "\n",
        "**Boolean** (bool):\n",
        "\n",
        "Any data which can be expressed as either True or False.\n",
        "Used when comparing two values. For example, if you enter 10 > 9, Python will return True.\n",
        "\n",
        "**String** (str):\n",
        "\n",
        "Data that involves text — either letters, numbers, or special characters.\n",
        "Strings are enclosed in either single- or double-quotation marks: \"string-1\" or 'string-2'.\n",
        "\n",
        "**Numeric** (int, float, complex):\n",
        "\n",
        "Data that can be expressed numerically.\n",
        "An integer, or int, is a whole number, positive or negative, without decimals, of unlimited length: 123.\n",
        "A floating-point number, or float, is a number, positive or negative, containing one or more decimals: 123.01.\n",
        "A complex number, or complex, are imaginary numbers, designated by a j: (3 + 6j).\n",
        "\n",
        "\n",
        "**Sequence**  (list, tuple, set):\n",
        "\n",
        "Data that is a collection of discrete items.\n",
        "\n",
        "A **list** is collection that is ordered and changeable. It's designated using square brackets [], and items can be of different data types: [\"red\", 1, 1.03, 1].\n",
        "A **tuple** is a collection which is ordered and unchangeable. It's designated using parentheses (): (\"red\", 1, 1.03, 1).\n",
        "\n",
        "A **set** is a collection which is unordered, unchangeable, and does not permit duplicate items. It's designated using curly brackets {}: {\"red\", 1, 1.03}.\n",
        "\n",
        "**Mapping** (dict):\n",
        "\n",
        "Dictionaries store data in key-value pairs. They're designated using curly brackets {}, like a set, but notice that keys and values are associated with each other using a colon :. Each pair is separated from the next using a comma ,."
      ],
      "metadata": {
        "id": "JJPzcquuNzh8"
      }
    },
    {
      "cell_type": "code",
      "source": [
        "basket = {1, 1, 1.0, \"mango\"}"
      ],
      "metadata": {
        "id": "5AX7IeimO9dt"
      },
      "execution_count": 1,
      "outputs": []
    },
    {
      "cell_type": "code",
      "source": [
        "print(basket)"
      ],
      "metadata": {
        "colab": {
          "base_uri": "https://localhost:8080/"
        },
        "id": "R5QWH5rySRO9",
        "outputId": "3613c335-1fab-430e-868b-0e3c5481d8a7"
      },
      "execution_count": 3,
      "outputs": [
        {
          "output_type": "stream",
          "name": "stdout",
          "text": [
            "{1, 'mango'}\n"
          ]
        }
      ]
    },
    {
      "cell_type": "code",
      "source": [
        "dict1 = {\n",
        "    \"department\": \"quindio\",\n",
        "    \"property_type\": \"house\",\n",
        "    \"price_usd\": 330899.98\n",
        "}\n",
        "\n",
        "print(dict1)"
      ],
      "metadata": {
        "colab": {
          "base_uri": "https://localhost:8080/"
        },
        "id": "E6flHGvdSewi",
        "outputId": "a154ed27-40d5-4448-9fc8-f2df9474b2ef"
      },
      "execution_count": 4,
      "outputs": [
        {
          "output_type": "stream",
          "name": "stdout",
          "text": [
            "{'department': 'quindio', 'property_type': 'house', 'price_usd': 330899.98}\n"
          ]
        }
      ]
    },
    {
      "cell_type": "markdown",
      "source": [
        "**Binary** (bytes, bytearray, memoryview):\n",
        "\n",
        "Used to manipulate and display binary data. That is, data that can be expressed with integers represented with base 2.\n",
        "Unlike the other data types described above, binary types are not human-readable."
      ],
      "metadata": {
        "id": "X8nxTjA0TgzA"
      }
    },
    {
      "cell_type": "markdown",
      "source": [
        "**Lists**\n",
        "\n",
        "In Python, a **list** is a collection of data that stores multiple items in a single variable. These items must be ordered, able to be changed, and can be duplicated. A list can store data of multiple types; not all the items in the list need to be the same type."
      ],
      "metadata": {
        "id": "D5iekHhPU2vG"
      }
    },
    {
      "cell_type": "markdown",
      "source": [
        "**Creating Lists**\n",
        "Lists can be as long or as short as you like. Let's create a short list based on data from the Colombian real estate market to give us something to work with.\n",
        "\n",
        "Lists are written with square brackets. Code for a short list that shows the price of houses in US dollars looks like this:"
      ],
      "metadata": {
        "id": "PHB1aQX0U9qS"
      }
    },
    {
      "cell_type": "code",
      "source": [
        "price_usd = [97919.38,300511.20, 293758.14]"
      ],
      "metadata": {
        "id": "XzMxFbiWTle_"
      },
      "execution_count": 5,
      "outputs": []
    },
    {
      "cell_type": "code",
      "source": [
        "print(price_usd)"
      ],
      "metadata": {
        "colab": {
          "base_uri": "https://localhost:8080/"
        },
        "id": "sQ4Pz2x4VkOc",
        "outputId": "66307e81-57d5-48c8-d444-f5f7ac3cc4b6"
      },
      "execution_count": 6,
      "outputs": [
        {
          "output_type": "stream",
          "name": "stdout",
          "text": [
            "[97919.38, 300511.2, 293758.14]\n"
          ]
        }
      ]
    },
    {
      "cell_type": "markdown",
      "source": [
        "**Working with Lists**\n",
        "\n",
        "After you've created a list, you can access any item on the list by referring to the item's index number. Keep in mind that in Python, the first item in a list is always 0.\n",
        "\n",
        "Let's access the second item of our price_usd list."
      ],
      "metadata": {
        "id": "iEQZf3l8Vu8D"
      }
    },
    {
      "cell_type": "code",
      "source": [
        "print(price_usd[1])"
      ],
      "metadata": {
        "colab": {
          "base_uri": "https://localhost:8080/"
        },
        "id": "w5AGCJtAVyvZ",
        "outputId": "8a5d4855-c0e2-48c4-a8b6-2e7f9d5dd550"
      },
      "execution_count": 7,
      "outputs": [
        {
          "output_type": "stream",
          "name": "stdout",
          "text": [
            "300511.2\n"
          ]
        }
      ]
    },
    {
      "cell_type": "markdown",
      "source": [
        "**Practice**\n",
        "\n",
        "Try it yourself! Create and print a list that shows the area of the houses, called area_m2. Include the items 187.0, 82.0, and 235.0."
      ],
      "metadata": {
        "id": "LXrQmUkoWKDq"
      }
    },
    {
      "cell_type": "markdown",
      "source": [
        "If we want to access the an item at the end of the list, we can use **negative indexing**. In negative indexing, -1 refers to the last item, -2 to the second to last, and so on.\n",
        "\n",
        "Let's access the last item in our price_usd list."
      ],
      "metadata": {
        "id": "r18whtg9WOBw"
      }
    },
    {
      "cell_type": "code",
      "source": [
        "print(price_usd[-1])"
      ],
      "metadata": {
        "colab": {
          "base_uri": "https://localhost:8080/"
        },
        "id": "44VMaIokWW01",
        "outputId": "f1d117cd-29aa-49fc-963c-9af1426f44d8"
      },
      "execution_count": 8,
      "outputs": [
        {
          "output_type": "stream",
          "name": "stdout",
          "text": [
            "293758.14\n"
          ]
        }
      ]
    },
    {
      "cell_type": "markdown",
      "source": [
        "**Practice**\n",
        "\n",
        "Try accessing the second item in your area_m2 list."
      ],
      "metadata": {
        "id": "n7fgIGCmWoHD"
      }
    },
    {
      "cell_type": "markdown",
      "source": [
        "Try accessing the last item in the same list."
      ],
      "metadata": {
        "id": "uHTjtSVnW80S"
      }
    },
    {
      "cell_type": "markdown",
      "source": [
        "**Appending Items**\n",
        "It's also possible to add an item to a list that already exists using the append method like this:"
      ],
      "metadata": {
        "id": "_RdikFYYXRUA"
      }
    },
    {
      "cell_type": "code",
      "source": [
        "price_usd.append(540244.86)\n",
        "print(price_usd)"
      ],
      "metadata": {
        "colab": {
          "base_uri": "https://localhost:8080/"
        },
        "id": "pK1pXMUmWp8x",
        "outputId": "f7bc96b2-2f61-49af-c2b8-545653132809"
      },
      "execution_count": 12,
      "outputs": [
        {
          "output_type": "stream",
          "name": "stdout",
          "text": [
            "[97919.38, 300511.2, 293758.14, 540244.86, 540244.86, 540244.86, 540244.86]\n"
          ]
        }
      ]
    },
    {
      "cell_type": "markdown",
      "source": [
        "**Practice**\n",
        "\n",
        "Add the item 195.0 to your area_m2 list."
      ],
      "metadata": {
        "id": "UA_7JD2vYEoD"
      }
    },
    {
      "cell_type": "markdown",
      "source": [
        "**Aggregating Items**\n",
        "\n",
        "We can also **aggregate** items on a list to make analyzing the list more useful. For example, if we wanted to know the total value in US dollars of the houses on our price_usd list, we could use the sum method."
      ],
      "metadata": {
        "id": "sZeHYfZ9YIbr"
      }
    },
    {
      "cell_type": "code",
      "source": [
        "total_usd = sum(price_usd)\n",
        "print(total_usd)"
      ],
      "metadata": {
        "colab": {
          "base_uri": "https://localhost:8080/"
        },
        "id": "RKNpy-wkYiwR",
        "outputId": "5cda26d0-3be6-4f05-9774-2b950ef91e3c"
      },
      "execution_count": 13,
      "outputs": [
        {
          "output_type": "stream",
          "name": "stdout",
          "text": [
            "2853168.1599999997\n"
          ]
        }
      ]
    },
    {
      "cell_type": "markdown",
      "source": [
        "We might also be interested in the average value in US dollars of the houses on the same list. To find the average, we add the **len** method to the **sum** method"
      ],
      "metadata": {
        "id": "ct9Ap7F9Yst5"
      }
    },
    {
      "cell_type": "code",
      "source": [
        "average_usd = sum(price_usd)/ len(price_usd)\n",
        "print(average_usd)"
      ],
      "metadata": {
        "colab": {
          "base_uri": "https://localhost:8080/"
        },
        "id": "Uk4qkWZzY3ql",
        "outputId": "7e8a4911-bce1-4970-f8cc-373c37b2ed1f"
      },
      "execution_count": 14,
      "outputs": [
        {
          "output_type": "stream",
          "name": "stdout",
          "text": [
            "407595.45142857137\n"
          ]
        }
      ]
    },
    {
      "cell_type": "markdown",
      "source": [
        "**Practice**\n",
        "\n",
        "Try it yourself! Calculate the total area of the houses on your  **area_m2** list, and find the average area of all the houses on the list."
      ],
      "metadata": {
        "id": "KW4cCin8ZWTI"
      }
    },
    {
      "cell_type": "markdown",
      "source": [
        "**Zipping Items**\n",
        "\n",
        "Finally, it might be useful to combine -- or **zip** -- two lists together. For example, we might want to create a new list that pairs the values in our price_usd list with our area_m2 list. To do that, we use the zip method. The code looks like this:\n",
        "\n",
        "You might have noticed that the above code involving putting one list (in this case, new_list) inside another list (in this case, list). This approach is called a **generator**, and we'll come back to what that is and how it works later in the course."
      ],
      "metadata": {
        "id": "_S8hy6BbZZ2M"
      }
    },
    {
      "cell_type": "code",
      "source": [
        "new_list = zip(price_usd, area_m2)\n",
        "zipped_list = list(new_list)\n",
        "print(zipped_list)"
      ],
      "metadata": {
        "id": "wx7wzHsOZzms"
      },
      "execution_count": null,
      "outputs": []
    },
    {
      "cell_type": "markdown",
      "source": [
        "**Practice**\n",
        "\n",
        "Try it yourself!\n",
        " Create a list called area_m2 that includes the terms 235.0, 130.0, and 137.0, then create another list called price_cop that includes the terms 400000000.0, 850000000.0, and 475000000.0. Then zip them together to create a new list called area_price, and print the result."
      ],
      "metadata": {
        "id": "5VqLFI67bFs5"
      }
    },
    {
      "cell_type": "markdown",
      "source": [
        "**Python for Loops**\n",
        "\n",
        "A for Loop is used for executing a set of statements for each item in a list."
      ],
      "metadata": {
        "id": "J2Gos9vCb5Wj"
      }
    },
    {
      "cell_type": "markdown",
      "source": [
        "**Working with for Loops**\n",
        "\n",
        "There can be as many statements as there are items in the list, but to keep things manageable, let's use our list of real estate values in Colombia."
      ],
      "metadata": {
        "id": "m4L43DVUcOga"
      }
    },
    {
      "cell_type": "code",
      "source": [
        "price_usd = [97919.38, 300511.20, 293758.14, 540244.86]\n",
        "print(price_usd)"
      ],
      "metadata": {
        "colab": {
          "base_uri": "https://localhost:8080/"
        },
        "id": "TM4scGjsbJw9",
        "outputId": "a4f1a4e5-d1b3-49b4-c943-c1a52e51edd9"
      },
      "execution_count": 15,
      "outputs": [
        {
          "output_type": "stream",
          "name": "stdout",
          "text": [
            "[97919.38, 300511.2, 293758.14, 540244.86]\n"
          ]
        }
      ]
    },
    {
      "cell_type": "markdown",
      "source": [
        "We might want to see each of the values in the list, so we insert a **for** Loop:"
      ],
      "metadata": {
        "id": "dpikupD2cjgC"
      }
    },
    {
      "cell_type": "code",
      "source": [
        "price_usd = [97919.38, 300511.20, 293758.14, 540244.86]\n",
        "for x in price_usd:\n",
        "  print(x)"
      ],
      "metadata": {
        "colab": {
          "base_uri": "https://localhost:8080/"
        },
        "id": "kkIxDjhlcmPV",
        "outputId": "73fcc243-b914-4899-9bed-35905895f5fc"
      },
      "execution_count": 16,
      "outputs": [
        {
          "output_type": "stream",
          "name": "stdout",
          "text": [
            "97919.38\n",
            "300511.2\n",
            "293758.14\n",
            "540244.86\n"
          ]
        }
      ]
    },
    {
      "cell_type": "markdown",
      "source": [
        "Note that the **print** command is indented."
      ],
      "metadata": {
        "id": "jb9g3RXucw7x"
      }
    },
    {
      "cell_type": "markdown",
      "source": [
        "**Practice**\n",
        "\n",
        "Try it yourself using the area_m2 list:"
      ],
      "metadata": {
        "id": "ix3VoMG_c6YE"
      }
    },
    {
      "cell_type": "markdown",
      "source": [
        "**Python Dictionaries**"
      ],
      "metadata": {
        "id": "CpV4FHG-dGiU"
      }
    },
    {
      "cell_type": "markdown",
      "source": [
        "In Python, a **dictionary** is a collection of data that occurs in an order, is able to be changed, and does not allow duplicates. Data in a dictionary are always presented as **keys** and **values**, and those key-value pairs cannot be duplicated in the dataset."
      ],
      "metadata": {
        "id": "FPGqdFqsdmwk"
      }
    },
    {
      "cell_type": "markdown",
      "source": [
        "**Creating Dictionaries**\n",
        "\n",
        "Dictionaries can be as big or as small as you like. Let's create a small dictionary based on data from the Colombian real estate market to give us something to work with.\n",
        "\n",
        "Dictionaries are written with curly brackets, with key-value pairs inside. Code for a small dictionary looks like this:"
      ],
      "metadata": {
        "id": "pidpbxd-dtKv"
      }
    },
    {
      "cell_type": "code",
      "source": [
        "colomdict = {\n",
        "    \"department\": \"quindio\",\n",
        "    \"property_type\": \"house\",\n",
        "    \"price_usd\": 330899.98\n",
        "}\n",
        "\n",
        "print(colomdict)"
      ],
      "metadata": {
        "colab": {
          "base_uri": "https://localhost:8080/"
        },
        "id": "QMtuSTpOeECp",
        "outputId": "2f80ed03-86d6-4bdc-d150-eca715671a96"
      },
      "execution_count": 17,
      "outputs": [
        {
          "output_type": "stream",
          "name": "stdout",
          "text": [
            "{'department': 'quindio', 'property_type': 'house', 'price_usd': 330899.98}\n"
          ]
        }
      ]
    },
    {
      "cell_type": "markdown",
      "source": [
        "**Practice**\n",
        "\n",
        "Try it yourself! Create and print a dictionary called bogota with the key-value pairs \"price_usd\": 121,555.09, \"area_m2\": 82.0, and \"property_type\": \"house\""
      ],
      "metadata": {
        "id": "Xejf6B5-eTnq"
      }
    },
    {
      "cell_type": "code",
      "source": [
        "bogota = {\n",
        "    \"price_usd\": 121555.09,\n",
        "    \"area_m2\": 82.0,\n",
        "    \"property_type\": \"house\"\n",
        "}\n",
        "\n",
        "print(bogota)"
      ],
      "metadata": {
        "colab": {
          "base_uri": "https://localhost:8080/"
        },
        "id": "c0ETQUGAfAFj",
        "outputId": "4bcb2b58-3a92-4c9c-d128-0135c961b986"
      },
      "execution_count": 19,
      "outputs": [
        {
          "output_type": "stream",
          "name": "stdout",
          "text": [
            "{'price_usd': 121555.09, 'area_m2': 82.0, 'property_type': 'house'}\n"
          ]
        }
      ]
    },
    {
      "cell_type": "markdown",
      "source": [
        "**Working with Dictionaries**\n",
        "\n",
        "After you've created a dictionary, you can access any item by using its key name inside square brackets.\n",
        "\n",
        "Going back to our example dictionary, let's access the value for \"department\"."
      ],
      "metadata": {
        "id": "BtW-hMLWfUbc"
      }
    },
    {
      "cell_type": "code",
      "source": [
        "x = colomdict[\"department\"]\n",
        "print(x)"
      ],
      "metadata": {
        "colab": {
          "base_uri": "https://localhost:8080/"
        },
        "id": "mbXrOj-VfxC3",
        "outputId": "09429659-3f8a-46ab-c3c9-dc6895092a3a"
      },
      "execution_count": 20,
      "outputs": [
        {
          "output_type": "stream",
          "name": "stdout",
          "text": [
            "quindio\n"
          ]
        }
      ]
    },
    {
      "cell_type": "markdown",
      "source": [
        "**Practice**\n",
        "\n",
        "\n",
        "Try accessing the value for price_usd in the Bogotá dictionary you created above."
      ],
      "metadata": {
        "id": "IMAORY1CebI-"
      }
    },
    {
      "cell_type": "markdown",
      "source": [
        "You can also use **`get`** to retrieve a value. That looks like this:"
      ],
      "metadata": {
        "id": "1qa23RlVgA4z"
      }
    },
    {
      "cell_type": "code",
      "source": [
        "x = colomdict.get(\"department\")\n",
        "print(x)"
      ],
      "metadata": {
        "colab": {
          "base_uri": "https://localhost:8080/"
        },
        "id": "j86INoMCgYIa",
        "outputId": "b0f72f88-b8d7-45b1-f5f6-c8280c5cd4d1"
      },
      "execution_count": 21,
      "outputs": [
        {
          "output_type": "stream",
          "name": "stdout",
          "text": [
            "quindio\n"
          ]
        }
      ]
    },
    {
      "cell_type": "markdown",
      "source": [
        "**Practice**\n",
        "\n",
        "\n",
        "Now try accessing the value for area_m2 using the get method, and print the result."
      ],
      "metadata": {
        "id": "irK5FwK-gVK-"
      }
    },
    {
      "cell_type": "markdown",
      "source": [
        "**Dictionary Keys**\n",
        "\n",
        "Sometimes you want to know what the keys are in the dictionary, or you want to iterate through the dictionary. In such cases, you need to write code to access all keys in a dictionary by utilizing the keys method:"
      ],
      "metadata": {
        "id": "__stNVfUgpci"
      }
    },
    {
      "cell_type": "code",
      "source": [
        "colomdict.keys()"
      ],
      "metadata": {
        "colab": {
          "base_uri": "https://localhost:8080/"
        },
        "id": "Q3tGmF4WhJHa",
        "outputId": "89addcdd-a0bd-40a9-a9a7-652162ca825b"
      },
      "execution_count": 22,
      "outputs": [
        {
          "output_type": "execute_result",
          "data": {
            "text/plain": [
              "dict_keys(['department', 'property_type', 'price_usd'])"
            ]
          },
          "metadata": {},
          "execution_count": 22
        }
      ]
    },
    {
      "cell_type": "markdown",
      "source": [
        "If you need to use the keys in a list, you can transform the output:"
      ],
      "metadata": {
        "id": "XCDX2rHKhRqW"
      }
    },
    {
      "cell_type": "code",
      "source": [
        "list(colomdict.keys())"
      ],
      "metadata": {
        "colab": {
          "base_uri": "https://localhost:8080/"
        },
        "id": "ShMMEZZmhV_H",
        "outputId": "44a08996-5f0b-4fa8-f796-a5db2a2bc8d6"
      },
      "execution_count": 23,
      "outputs": [
        {
          "output_type": "execute_result",
          "data": {
            "text/plain": [
              "['department', 'property_type', 'price_usd']"
            ]
          },
          "metadata": {},
          "execution_count": 23
        }
      ]
    },
    {
      "cell_type": "markdown",
      "source": [
        "You can also iterate though colomdict.keys() without converting it to a list:"
      ],
      "metadata": {
        "id": "bHiV6FXmhgOT"
      }
    },
    {
      "cell_type": "code",
      "source": [
        "for k in colomdict.keys():\n",
        "  print(k)"
      ],
      "metadata": {
        "colab": {
          "base_uri": "https://localhost:8080/"
        },
        "id": "xND1ZKvVhhwg",
        "outputId": "cb345d1b-5cb7-4634-ff2a-8f7ab60d6fec"
      },
      "execution_count": 24,
      "outputs": [
        {
          "output_type": "stream",
          "name": "stdout",
          "text": [
            "department\n",
            "property_type\n",
            "price_usd\n"
          ]
        }
      ]
    },
    {
      "cell_type": "markdown",
      "source": [
        "**Practice**\n",
        "\n",
        "\n",
        "print the value of each key in the colomdict dictionary"
      ],
      "metadata": {
        "id": "Q0fguhWwhwdE"
      }
    },
    {
      "cell_type": "markdown",
      "source": [
        "**JSON**\n",
        "\n",
        "JSON stands for Java Script Object Notation, and it's a text format for storing and transporting data."
      ],
      "metadata": {
        "id": "2W7SgPvbhzPP"
      }
    },
    {
      "cell_type": "markdown",
      "source": [
        "**Working with JSON**\n",
        "\n",
        "JSON works by creating **key-value pairs**, where the key is data that can be represented by letters (called a **string**). JSON values can be strings, numbers, objects, arrays, boolean data, or null. JSON usually comes as a list of dictionaries, which look like this:\n",
        "\n",
        "Here's an example from our colombia-real-estate-1 dataset with two key-value pairs that both include string values:"
      ],
      "metadata": {
        "id": "p239tEGBiNrm"
      }
    },
    {
      "cell_type": "code",
      "source": [
        "[\n",
        "    {\"property_type\": \"house\", \"department\": \"bogota\"},\n",
        "    {\"property_type\": \"house\", \"department\": \"bogota\"},\n",
        "    {\"property_type\": \"house\", \"department\": \"bogota\"},\n",
        "]"
      ],
      "metadata": {
        "colab": {
          "base_uri": "https://localhost:8080/"
        },
        "id": "m7gQqk0JjBUr",
        "outputId": "8b61021e-0060-4160-bf68-3c9ab4102f6d"
      },
      "execution_count": 25,
      "outputs": [
        {
          "output_type": "execute_result",
          "data": {
            "text/plain": [
              "[{'property_type': 'house', 'department': 'bogota'},\n",
              " {'property_type': 'house', 'department': 'bogota'},\n",
              " {'property_type': 'house', 'department': 'bogota'}]"
            ]
          },
          "metadata": {},
          "execution_count": 25
        }
      ]
    },
    {
      "cell_type": "markdown",
      "source": [
        "Here's an simplified example from our colombia-real-estate-1 dataset with two key-value pairs that both include string values:"
      ],
      "metadata": {
        "id": "KuemjFFmknq4"
      }
    },
    {
      "cell_type": "code",
      "source": [
        "{\"property_type\": \"house\", \"department\": \"bogota\"}"
      ],
      "metadata": {
        "colab": {
          "base_uri": "https://localhost:8080/"
        },
        "id": "eS9-ZTagkrTY",
        "outputId": "923ca416-4c37-4998-d0b4-dacb0156a94c"
      },
      "execution_count": 26,
      "outputs": [
        {
          "output_type": "execute_result",
          "data": {
            "text/plain": [
              "{'property_type': 'house', 'department': 'bogota'}"
            ]
          },
          "metadata": {},
          "execution_count": 26
        }
      ]
    },
    {
      "cell_type": "markdown",
      "source": [
        "JSON pairs with numbers look like this:"
      ],
      "metadata": {
        "id": "qhoqLPVAk_7B"
      }
    },
    {
      "cell_type": "code",
      "source": [
        "{\"area_m2\": 187.0, \"price_usd\": 330899.98}"
      ],
      "metadata": {
        "id": "RAiXyn7HlFVT"
      },
      "execution_count": null,
      "outputs": []
    },
    {
      "cell_type": "markdown",
      "source": [
        "When you mix more than one type of value, it looks like this:"
      ],
      "metadata": {
        "id": "CBYDy4W5lMeH"
      }
    },
    {
      "cell_type": "code",
      "source": [
        "{\"property_type\": \"house\", \"price_usd\": 330899.98}"
      ],
      "metadata": {
        "colab": {
          "base_uri": "https://localhost:8080/"
        },
        "id": "KuPXcts2lK9W",
        "outputId": "5007a734-6d46-4f41-9f20-6e43d169eef7"
      },
      "execution_count": 27,
      "outputs": [
        {
          "output_type": "execute_result",
          "data": {
            "text/plain": [
              "{'property_type': 'house', 'price_usd': 330899.98}"
            ]
          },
          "metadata": {},
          "execution_count": 27
        }
      ]
    }
  ]
}