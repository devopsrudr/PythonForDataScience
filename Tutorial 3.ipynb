{
 "cells": [
  {
   "cell_type": "markdown",
   "id": "ba4a3b52",
   "metadata": {},
   "source": [
    "## 3.1 Functions\n",
    "\n",
    "> A piece of reusable code, aimed at solving a particular task.\n",
    "\n",
    "> You can write the function once and keep using it again and again for doing similar tasks.\n",
    "\n",
    "- Example: type() is a function."
   ]
  },
  {
   "cell_type": "markdown",
   "id": "38594db8",
   "metadata": {},
   "source": [
    "> Functions can be:\n",
    "\n",
    "- 1) Built-in: type(), max(), min() etc.\n",
    "- 2) User-defined: a function to return odd numbers from a list etc."
   ]
  },
  {
   "cell_type": "markdown",
   "id": "6967ef7c",
   "metadata": {},
   "source": [
    "## 3.2 Examples of built-in functions"
   ]
  },
  {
   "cell_type": "code",
   "execution_count": 1,
   "id": "49ce8c53",
   "metadata": {},
   "outputs": [
    {
     "data": {
      "text/plain": [
       "[85, 23, 45, 77, 92]"
      ]
     },
     "execution_count": 1,
     "metadata": {},
     "output_type": "execute_result"
    }
   ],
   "source": [
    "marks = [85, 23, 45, 77, 92]\n",
    "marks"
   ]
  },
  {
   "cell_type": "code",
   "execution_count": 2,
   "id": "ae877323",
   "metadata": {},
   "outputs": [
    {
     "data": {
      "text/plain": [
       "92"
      ]
     },
     "execution_count": 2,
     "metadata": {},
     "output_type": "execute_result"
    }
   ],
   "source": [
    "max(marks)"
   ]
  },
  {
   "cell_type": "code",
   "execution_count": 3,
   "id": "0c908106",
   "metadata": {},
   "outputs": [
    {
     "data": {
      "text/plain": [
       "3.1429"
      ]
     },
     "execution_count": 3,
     "metadata": {},
     "output_type": "execute_result"
    }
   ],
   "source": [
    "# Round function. | Syntax is round(the number you want to round, precision)\n",
    "\n",
    "pi = 22/7\n",
    "round(pi, 4)"
   ]
  },
  {
   "cell_type": "markdown",
   "id": "43664da7",
   "metadata": {},
   "source": [
    "- If you ever want to do quick look of what all parameters built-in functions take, use help function."
   ]
  },
  {
   "cell_type": "code",
   "execution_count": 4,
   "id": "ef4c21bb",
   "metadata": {},
   "outputs": [
    {
     "name": "stdout",
     "output_type": "stream",
     "text": [
      "Help on built-in function round in module builtins:\n",
      "\n",
      "round(number, ndigits=None)\n",
      "    Round a number to a given precision in decimal digits.\n",
      "    \n",
      "    The return value is an integer if ndigits is omitted or None.  Otherwise\n",
      "    the return value has the same type as the number.  ndigits may be negative.\n",
      "\n"
     ]
    }
   ],
   "source": [
    "help(round)"
   ]
  },
  {
   "cell_type": "code",
   "execution_count": 5,
   "id": "bca56a57",
   "metadata": {},
   "outputs": [],
   "source": [
    "# Alternative way\n",
    "\n",
    "?round"
   ]
  },
  {
   "cell_type": "markdown",
   "id": "457095a0",
   "metadata": {},
   "source": [
    "## 3.3 Methods\n",
    "\n",
    "- Objects: When you create a certain data type, you are technically creating an object. So in layman terms we say we are creating a variable which has string value, but what we actually mean is we are creating a python object named variable which contains string data type.\n",
    "\n",
    "> Example: marks = [85, 23, 45, 77, 92], so it means marks variable has a list object.\n",
    "\n",
    "- Methods are the functions associated with these objects.\n",
    "\n",
    "> Example: a list object has a method \"index\" which basically tells you what is the index of a certain value in a particular list."
   ]
  },
  {
   "cell_type": "code",
   "execution_count": 6,
   "id": "d09794f0",
   "metadata": {},
   "outputs": [
    {
     "data": {
      "text/plain": [
       "4"
      ]
     },
     "execution_count": 6,
     "metadata": {},
     "output_type": "execute_result"
    }
   ],
   "source": [
    "marks.index(92)"
   ]
  },
  {
   "cell_type": "code",
   "execution_count": 7,
   "id": "1dd4003f",
   "metadata": {},
   "outputs": [
    {
     "data": {
      "text/plain": [
       "'EVERYDAY DATA SCIENCE'"
      ]
     },
     "execution_count": 7,
     "metadata": {},
     "output_type": "execute_result"
    }
   ],
   "source": [
    "channel = 'everyday data science'\n",
    "channel.upper()"
   ]
  },
  {
   "cell_type": "code",
   "execution_count": 8,
   "id": "406bfacb",
   "metadata": {},
   "outputs": [
    {
     "ename": "NameError",
     "evalue": "name 'upper' is not defined",
     "output_type": "error",
     "traceback": [
      "\u001b[0;31m---------------------------------------------------------------------------\u001b[0m",
      "\u001b[0;31mNameError\u001b[0m                                 Traceback (most recent call last)",
      "\u001b[0;32m/var/folders/3b/tzn1v6ls71388q_f0vnpvnj00000gn/T/ipykernel_46304/3076265917.py\u001b[0m in \u001b[0;36m<module>\u001b[0;34m\u001b[0m\n\u001b[0;32m----> 1\u001b[0;31m \u001b[0mhelp\u001b[0m\u001b[0;34m(\u001b[0m\u001b[0mupper\u001b[0m\u001b[0;34m)\u001b[0m\u001b[0;34m\u001b[0m\u001b[0;34m\u001b[0m\u001b[0m\n\u001b[0m",
      "\u001b[0;31mNameError\u001b[0m: name 'upper' is not defined"
     ]
    }
   ],
   "source": [
    "help(upper)"
   ]
  },
  {
   "cell_type": "code",
   "execution_count": 9,
   "id": "1606aec7",
   "metadata": {},
   "outputs": [
    {
     "name": "stdout",
     "output_type": "stream",
     "text": [
      "Help on method_descriptor:\n",
      "\n",
      "upper(self, /)\n",
      "    Return a copy of the string converted to uppercase.\n",
      "\n"
     ]
    }
   ],
   "source": [
    "help(str.upper)"
   ]
  },
  {
   "cell_type": "markdown",
   "id": "48d9deba",
   "metadata": {},
   "source": [
    "- Each object depending on its type, has specified methods associated with it."
   ]
  },
  {
   "cell_type": "code",
   "execution_count": 10,
   "id": "d7302631",
   "metadata": {},
   "outputs": [
    {
     "data": {
      "text/plain": [
       "'everyday data analyst'"
      ]
     },
     "execution_count": 10,
     "metadata": {},
     "output_type": "execute_result"
    }
   ],
   "source": [
    "channel.replace('science','analyst')"
   ]
  },
  {
   "cell_type": "code",
   "execution_count": 11,
   "id": "aa176bb5",
   "metadata": {},
   "outputs": [
    {
     "ename": "AttributeError",
     "evalue": "'list' object has no attribute 'replace'",
     "output_type": "error",
     "traceback": [
      "\u001b[0;31m---------------------------------------------------------------------------\u001b[0m",
      "\u001b[0;31mAttributeError\u001b[0m                            Traceback (most recent call last)",
      "\u001b[0;32m/var/folders/3b/tzn1v6ls71388q_f0vnpvnj00000gn/T/ipykernel_46304/807708177.py\u001b[0m in \u001b[0;36m<module>\u001b[0;34m\u001b[0m\n\u001b[0;32m----> 1\u001b[0;31m \u001b[0mmarks\u001b[0m\u001b[0;34m.\u001b[0m\u001b[0mreplace\u001b[0m\u001b[0;34m(\u001b[0m\u001b[0;36m92\u001b[0m\u001b[0;34m,\u001b[0m\u001b[0;36m95\u001b[0m\u001b[0;34m)\u001b[0m\u001b[0;34m\u001b[0m\u001b[0;34m\u001b[0m\u001b[0m\n\u001b[0m",
      "\u001b[0;31mAttributeError\u001b[0m: 'list' object has no attribute 'replace'"
     ]
    }
   ],
   "source": [
    "marks.replace(92,95)"
   ]
  },
  {
   "cell_type": "markdown",
   "id": "6be729d9",
   "metadata": {},
   "source": [
    "- Some method calls don't change the object they are called on, but others do."
   ]
  },
  {
   "cell_type": "code",
   "execution_count": 12,
   "id": "e775fcde",
   "metadata": {},
   "outputs": [
    {
     "data": {
      "text/plain": [
       "4"
      ]
     },
     "execution_count": 12,
     "metadata": {},
     "output_type": "execute_result"
    }
   ],
   "source": [
    "marks = [85, 23, 45, 77, 92]\n",
    "marks.index(92)"
   ]
  },
  {
   "cell_type": "code",
   "execution_count": 13,
   "id": "d56c3295",
   "metadata": {},
   "outputs": [
    {
     "data": {
      "text/plain": [
       "[85, 23, 45, 77, 92]"
      ]
     },
     "execution_count": 13,
     "metadata": {},
     "output_type": "execute_result"
    }
   ],
   "source": [
    "marks"
   ]
  },
  {
   "cell_type": "code",
   "execution_count": 14,
   "id": "015813b8",
   "metadata": {},
   "outputs": [],
   "source": [
    "marks.append(100)"
   ]
  },
  {
   "cell_type": "code",
   "execution_count": 15,
   "id": "5933a415",
   "metadata": {},
   "outputs": [
    {
     "data": {
      "text/plain": [
       "[85, 23, 45, 77, 92, 100]"
      ]
     },
     "execution_count": 15,
     "metadata": {},
     "output_type": "execute_result"
    }
   ],
   "source": [
    "marks"
   ]
  },
  {
   "cell_type": "markdown",
   "id": "10bd969f",
   "metadata": {},
   "source": [
    "## 3.4 Packages\n",
    "\n",
    "> Will it be beneficial to include all the python functions and methods written till date into one place? \n",
    "\n",
    "> <b> NO! </b> This is because you will end up not using majority of those almost everytime.\n",
    "\n",
    "- Example: Everything in your computer can be done with one application i.e You can make notes, browse internet, edit videos, make presentations etc etc in one single application. Everytime you open that application, will you do everything?\n",
    "\n",
    "- Similar python functions and methods are combined together and put at a place called package. Example: matplotlib, scikit-learn etc."
   ]
  },
  {
   "cell_type": "markdown",
   "id": "a3c13b5d",
   "metadata": {},
   "source": [
    "> To use a package first time, you install it and then import it. From second time onwards, you can directly import it."
   ]
  },
  {
   "cell_type": "code",
   "execution_count": 16,
   "id": "f3fc674a",
   "metadata": {},
   "outputs": [],
   "source": [
    "# pip install matplotlib"
   ]
  },
  {
   "cell_type": "code",
   "execution_count": 17,
   "id": "30d13329",
   "metadata": {},
   "outputs": [],
   "source": [
    "import matplotlib.pyplot"
   ]
  },
  {
   "cell_type": "code",
   "execution_count": 18,
   "id": "644797f6",
   "metadata": {},
   "outputs": [
    {
     "data": {
      "text/plain": [
       "(array([1., 0., 1., 0., 0., 0., 0., 1., 2., 1.]),\n",
       " array([ 23. ,  30.7,  38.4,  46.1,  53.8,  61.5,  69.2,  76.9,  84.6,\n",
       "         92.3, 100. ]),\n",
       " <BarContainer object of 10 artists>)"
      ]
     },
     "execution_count": 18,
     "metadata": {},
     "output_type": "execute_result"
    },
    {
     "data": {
      "image/png": "[encoded data removed]",
      "text/plain": [
       "<Figure size 432x288 with 1 Axes>"
      ]
     },
     "metadata": {
      "needs_background": "light"
     },
     "output_type": "display_data"
    }
   ],
   "source": [
    "matplotlib.pyplot.hist(marks)"
   ]
  },
  {
   "cell_type": "code",
   "execution_count": 19,
   "id": "9a6f26e4",
   "metadata": {},
   "outputs": [
    {
     "ename": "NameError",
     "evalue": "name 'hist' is not defined",
     "output_type": "error",
     "traceback": [
      "\u001b[0;31m---------------------------------------------------------------------------\u001b[0m",
      "\u001b[0;31mNameError\u001b[0m                                 Traceback (most recent call last)",
      "\u001b[0;32m/var/folders/3b/tzn1v6ls71388q_f0vnpvnj00000gn/T/ipykernel_46304/2673777944.py\u001b[0m in \u001b[0;36m<module>\u001b[0;34m\u001b[0m\n\u001b[1;32m      1\u001b[0m \u001b[0;31m# Be careful\u001b[0m\u001b[0;34m\u001b[0m\u001b[0;34m\u001b[0m\u001b[0m\n\u001b[1;32m      2\u001b[0m \u001b[0;34m\u001b[0m\u001b[0m\n\u001b[0;32m----> 3\u001b[0;31m \u001b[0mhist\u001b[0m\u001b[0;34m(\u001b[0m\u001b[0mmarks\u001b[0m\u001b[0;34m)\u001b[0m\u001b[0;34m\u001b[0m\u001b[0;34m\u001b[0m\u001b[0m\n\u001b[0m",
      "\u001b[0;31mNameError\u001b[0m: name 'hist' is not defined"
     ]
    }
   ],
   "source": [
    "# Be careful\n",
    "\n",
    "hist(marks)"
   ]
  },
  {
   "cell_type": "code",
   "execution_count": 20,
   "id": "644b1256",
   "metadata": {},
   "outputs": [
    {
     "data": {
      "text/plain": [
       "(array([1., 0., 1., 0., 0., 0., 0., 1., 2., 1.]),\n",
       " array([ 23. ,  30.7,  38.4,  46.1,  53.8,  61.5,  69.2,  76.9,  84.6,\n",
       "         92.3, 100. ]),\n",
       " <BarContainer object of 10 artists>)"
      ]
     },
     "execution_count": 20,
     "metadata": {},
     "output_type": "execute_result"
    },
    {
     "data": {
      "image/png": "[encoded data removed]",
      "text/plain": [
       "<Figure size 432x288 with 1 Axes>"
      ]
     },
     "metadata": {
      "needs_background": "light"
     },
     "output_type": "display_data"
    }
   ],
   "source": [
    "from matplotlib.pyplot import hist\n",
    "hist(marks)"
   ]
  },
  {
   "cell_type": "code",
   "execution_count": null,
   "id": "148ad8cc",
   "metadata": {},
   "outputs": [],
   "source": []
  }
 ],
 "metadata": {
  "kernelspec": {
   "display_name": "Python 3 (ipykernel)",
   "language": "python",
   "name": "python3"
  },
  "language_info": {
   "codemirror_mode": {
    "name": "ipython",
    "version": 3
   },
   "file_extension": ".py",
   "mimetype": "text/x-python",
   "name": "python",
   "nbconvert_exporter": "python",
   "pygments_lexer": "ipython3",
   "version": "3.9.7"
  }
 },
 "nbformat": 4,
 "nbformat_minor": 5
}
